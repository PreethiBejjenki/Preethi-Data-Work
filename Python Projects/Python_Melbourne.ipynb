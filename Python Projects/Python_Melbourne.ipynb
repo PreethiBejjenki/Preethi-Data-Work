{
 "cells": [
  {
   "cell_type": "markdown",
   "id": "aebb37aa",
   "metadata": {},
   "source": [
    "# Melbourne Property Analysis"
   ]
  },
  {
   "cell_type": "markdown",
   "id": "5687647a",
   "metadata": {},
   "source": [
    "#### Here I am analysig data gathered from public sources showing real estate transactions in Melbourne. "
   ]
  },
  {
   "cell_type": "code",
   "execution_count": 1,
   "id": "08fb15b3",
   "metadata": {},
   "outputs": [],
   "source": [
    "import pandas as pd\n",
    "import numpy as np \n",
    "import matplotlib.pyplot as plt\n",
    "import seaborn as sns"
   ]
  },
  {
   "cell_type": "markdown",
   "id": "c23e0561",
   "metadata": {},
   "source": [
    "Firstly lets read the file into a dataframe"
   ]
  },
  {
   "cell_type": "code",
   "execution_count": 2,
   "id": "1e82eb7f",
   "metadata": {},
   "outputs": [
    {
     "data": {
      "text/html": [
       "<div>\n",
       "<style scoped>\n",
       "    .dataframe tbody tr th:only-of-type {\n",
       "        vertical-align: middle;\n",
       "    }\n",
       "\n",
       "    .dataframe tbody tr th {\n",
       "        vertical-align: top;\n",
       "    }\n",
       "\n",
       "    .dataframe thead th {\n",
       "        text-align: right;\n",
       "    }\n",
       "</style>\n",
       "<table border=\"1\" class=\"dataframe\">\n",
       "  <thead>\n",
       "    <tr style=\"text-align: right;\">\n",
       "      <th></th>\n",
       "      <th>suburb</th>\n",
       "      <th>address</th>\n",
       "      <th>bedrooms</th>\n",
       "      <th>type</th>\n",
       "      <th>price</th>\n",
       "      <th>method</th>\n",
       "      <th>date</th>\n",
       "      <th>distance</th>\n",
       "      <th>postcode</th>\n",
       "      <th>bathrooms</th>\n",
       "      <th>car</th>\n",
       "      <th>land_size</th>\n",
       "      <th>building_area</th>\n",
       "      <th>year_built</th>\n",
       "      <th>council_area</th>\n",
       "      <th>latitude</th>\n",
       "      <th>longtitude</th>\n",
       "      <th>region</th>\n",
       "    </tr>\n",
       "  </thead>\n",
       "  <tbody>\n",
       "    <tr>\n",
       "      <th>0</th>\n",
       "      <td>Abbotsford</td>\n",
       "      <td>68 Studley St</td>\n",
       "      <td>2</td>\n",
       "      <td>h</td>\n",
       "      <td>NaN</td>\n",
       "      <td>SS</td>\n",
       "      <td>3/09/2016</td>\n",
       "      <td>2.5</td>\n",
       "      <td>3067.0</td>\n",
       "      <td>1.0</td>\n",
       "      <td>1.0</td>\n",
       "      <td>126.0</td>\n",
       "      <td>NaN</td>\n",
       "      <td>NaN</td>\n",
       "      <td>Yarra City Council</td>\n",
       "      <td>-37.8014</td>\n",
       "      <td>144.9958</td>\n",
       "      <td>Northern Metropolitan</td>\n",
       "    </tr>\n",
       "    <tr>\n",
       "      <th>1</th>\n",
       "      <td>Abbotsford</td>\n",
       "      <td>85 Turner St</td>\n",
       "      <td>2</td>\n",
       "      <td>h</td>\n",
       "      <td>1480000.0</td>\n",
       "      <td>S</td>\n",
       "      <td>3/12/2016</td>\n",
       "      <td>2.5</td>\n",
       "      <td>3067.0</td>\n",
       "      <td>1.0</td>\n",
       "      <td>1.0</td>\n",
       "      <td>202.0</td>\n",
       "      <td>NaN</td>\n",
       "      <td>NaN</td>\n",
       "      <td>Yarra City Council</td>\n",
       "      <td>-37.7996</td>\n",
       "      <td>144.9984</td>\n",
       "      <td>Northern Metropolitan</td>\n",
       "    </tr>\n",
       "    <tr>\n",
       "      <th>2</th>\n",
       "      <td>Abbotsford</td>\n",
       "      <td>25 Bloomburg St</td>\n",
       "      <td>2</td>\n",
       "      <td>h</td>\n",
       "      <td>1035000.0</td>\n",
       "      <td>S</td>\n",
       "      <td>4/02/2016</td>\n",
       "      <td>2.5</td>\n",
       "      <td>3067.0</td>\n",
       "      <td>1.0</td>\n",
       "      <td>0.0</td>\n",
       "      <td>156.0</td>\n",
       "      <td>79.0</td>\n",
       "      <td>1900.0</td>\n",
       "      <td>Yarra City Council</td>\n",
       "      <td>-37.8079</td>\n",
       "      <td>144.9934</td>\n",
       "      <td>Northern Metropolitan</td>\n",
       "    </tr>\n",
       "    <tr>\n",
       "      <th>3</th>\n",
       "      <td>Abbotsford</td>\n",
       "      <td>18/659 Victoria St</td>\n",
       "      <td>3</td>\n",
       "      <td>u</td>\n",
       "      <td>NaN</td>\n",
       "      <td>VB</td>\n",
       "      <td>4/02/2016</td>\n",
       "      <td>2.5</td>\n",
       "      <td>3067.0</td>\n",
       "      <td>2.0</td>\n",
       "      <td>1.0</td>\n",
       "      <td>0.0</td>\n",
       "      <td>NaN</td>\n",
       "      <td>NaN</td>\n",
       "      <td>Yarra City Council</td>\n",
       "      <td>-37.8114</td>\n",
       "      <td>145.0116</td>\n",
       "      <td>Northern Metropolitan</td>\n",
       "    </tr>\n",
       "    <tr>\n",
       "      <th>4</th>\n",
       "      <td>Abbotsford</td>\n",
       "      <td>5 Charles St</td>\n",
       "      <td>3</td>\n",
       "      <td>h</td>\n",
       "      <td>1465000.0</td>\n",
       "      <td>SP</td>\n",
       "      <td>4/03/2017</td>\n",
       "      <td>2.5</td>\n",
       "      <td>3067.0</td>\n",
       "      <td>2.0</td>\n",
       "      <td>0.0</td>\n",
       "      <td>134.0</td>\n",
       "      <td>150.0</td>\n",
       "      <td>1900.0</td>\n",
       "      <td>Yarra City Council</td>\n",
       "      <td>-37.8093</td>\n",
       "      <td>144.9944</td>\n",
       "      <td>Northern Metropolitan</td>\n",
       "    </tr>\n",
       "  </tbody>\n",
       "</table>\n",
       "</div>"
      ],
      "text/plain": [
       "       suburb             address  bedrooms type      price method       date  \\\n",
       "0  Abbotsford       68 Studley St         2    h        NaN     SS  3/09/2016   \n",
       "1  Abbotsford        85 Turner St         2    h  1480000.0      S  3/12/2016   \n",
       "2  Abbotsford     25 Bloomburg St         2    h  1035000.0      S  4/02/2016   \n",
       "3  Abbotsford  18/659 Victoria St         3    u        NaN     VB  4/02/2016   \n",
       "4  Abbotsford        5 Charles St         3    h  1465000.0     SP  4/03/2017   \n",
       "\n",
       "   distance  postcode  bathrooms  car  land_size  building_area  year_built  \\\n",
       "0       2.5    3067.0        1.0  1.0      126.0            NaN         NaN   \n",
       "1       2.5    3067.0        1.0  1.0      202.0            NaN         NaN   \n",
       "2       2.5    3067.0        1.0  0.0      156.0           79.0      1900.0   \n",
       "3       2.5    3067.0        2.0  1.0        0.0            NaN         NaN   \n",
       "4       2.5    3067.0        2.0  0.0      134.0          150.0      1900.0   \n",
       "\n",
       "         council_area  latitude  longtitude                 region  \n",
       "0  Yarra City Council  -37.8014    144.9958  Northern Metropolitan  \n",
       "1  Yarra City Council  -37.7996    144.9984  Northern Metropolitan  \n",
       "2  Yarra City Council  -37.8079    144.9934  Northern Metropolitan  \n",
       "3  Yarra City Council  -37.8114    145.0116  Northern Metropolitan  \n",
       "4  Yarra City Council  -37.8093    144.9944  Northern Metropolitan  "
      ]
     },
     "execution_count": 2,
     "metadata": {},
     "output_type": "execute_result"
    }
   ],
   "source": [
    "melb = pd.read_csv(r'C:\\Users\\Admin\\OneDrive\\Desktop\\Generation Course Content\\github\\Datasets\\melbourne_data.csv')\n",
    "melb.head()"
   ]
  },
  {
   "cell_type": "markdown",
   "id": "feafdde2",
   "metadata": {},
   "source": [
    "### Data cleaning and Removing outliers"
   ]
  },
  {
   "cell_type": "markdown",
   "id": "f4b2bcce",
   "metadata": {},
   "source": [
    "#### Removing all rows where price is not known"
   ]
  },
  {
   "cell_type": "code",
   "execution_count": 3,
   "id": "2a7ee769",
   "metadata": {},
   "outputs": [
    {
     "data": {
      "text/html": [
       "<div>\n",
       "<style scoped>\n",
       "    .dataframe tbody tr th:only-of-type {\n",
       "        vertical-align: middle;\n",
       "    }\n",
       "\n",
       "    .dataframe tbody tr th {\n",
       "        vertical-align: top;\n",
       "    }\n",
       "\n",
       "    .dataframe thead th {\n",
       "        text-align: right;\n",
       "    }\n",
       "</style>\n",
       "<table border=\"1\" class=\"dataframe\">\n",
       "  <thead>\n",
       "    <tr style=\"text-align: right;\">\n",
       "      <th></th>\n",
       "      <th>suburb</th>\n",
       "      <th>address</th>\n",
       "      <th>bedrooms</th>\n",
       "      <th>type</th>\n",
       "      <th>price</th>\n",
       "      <th>method</th>\n",
       "      <th>date</th>\n",
       "      <th>distance</th>\n",
       "      <th>postcode</th>\n",
       "      <th>bathrooms</th>\n",
       "      <th>car</th>\n",
       "      <th>land_size</th>\n",
       "      <th>building_area</th>\n",
       "      <th>year_built</th>\n",
       "      <th>council_area</th>\n",
       "      <th>latitude</th>\n",
       "      <th>longtitude</th>\n",
       "      <th>region</th>\n",
       "    </tr>\n",
       "  </thead>\n",
       "  <tbody>\n",
       "    <tr>\n",
       "      <th>1</th>\n",
       "      <td>Abbotsford</td>\n",
       "      <td>85 Turner St</td>\n",
       "      <td>2</td>\n",
       "      <td>h</td>\n",
       "      <td>1480000.0</td>\n",
       "      <td>S</td>\n",
       "      <td>3/12/2016</td>\n",
       "      <td>2.5</td>\n",
       "      <td>3067.0</td>\n",
       "      <td>1.0</td>\n",
       "      <td>1.0</td>\n",
       "      <td>202.0</td>\n",
       "      <td>NaN</td>\n",
       "      <td>NaN</td>\n",
       "      <td>Yarra City Council</td>\n",
       "      <td>-37.7996</td>\n",
       "      <td>144.9984</td>\n",
       "      <td>Northern Metropolitan</td>\n",
       "    </tr>\n",
       "    <tr>\n",
       "      <th>2</th>\n",
       "      <td>Abbotsford</td>\n",
       "      <td>25 Bloomburg St</td>\n",
       "      <td>2</td>\n",
       "      <td>h</td>\n",
       "      <td>1035000.0</td>\n",
       "      <td>S</td>\n",
       "      <td>4/02/2016</td>\n",
       "      <td>2.5</td>\n",
       "      <td>3067.0</td>\n",
       "      <td>1.0</td>\n",
       "      <td>0.0</td>\n",
       "      <td>156.0</td>\n",
       "      <td>79.0</td>\n",
       "      <td>1900.0</td>\n",
       "      <td>Yarra City Council</td>\n",
       "      <td>-37.8079</td>\n",
       "      <td>144.9934</td>\n",
       "      <td>Northern Metropolitan</td>\n",
       "    </tr>\n",
       "    <tr>\n",
       "      <th>4</th>\n",
       "      <td>Abbotsford</td>\n",
       "      <td>5 Charles St</td>\n",
       "      <td>3</td>\n",
       "      <td>h</td>\n",
       "      <td>1465000.0</td>\n",
       "      <td>SP</td>\n",
       "      <td>4/03/2017</td>\n",
       "      <td>2.5</td>\n",
       "      <td>3067.0</td>\n",
       "      <td>2.0</td>\n",
       "      <td>0.0</td>\n",
       "      <td>134.0</td>\n",
       "      <td>150.0</td>\n",
       "      <td>1900.0</td>\n",
       "      <td>Yarra City Council</td>\n",
       "      <td>-37.8093</td>\n",
       "      <td>144.9944</td>\n",
       "      <td>Northern Metropolitan</td>\n",
       "    </tr>\n",
       "    <tr>\n",
       "      <th>5</th>\n",
       "      <td>Abbotsford</td>\n",
       "      <td>40 Federation La</td>\n",
       "      <td>3</td>\n",
       "      <td>h</td>\n",
       "      <td>850000.0</td>\n",
       "      <td>PI</td>\n",
       "      <td>4/03/2017</td>\n",
       "      <td>2.5</td>\n",
       "      <td>3067.0</td>\n",
       "      <td>2.0</td>\n",
       "      <td>1.0</td>\n",
       "      <td>94.0</td>\n",
       "      <td>NaN</td>\n",
       "      <td>NaN</td>\n",
       "      <td>Yarra City Council</td>\n",
       "      <td>-37.7969</td>\n",
       "      <td>144.9969</td>\n",
       "      <td>Northern Metropolitan</td>\n",
       "    </tr>\n",
       "    <tr>\n",
       "      <th>6</th>\n",
       "      <td>Abbotsford</td>\n",
       "      <td>55a Park St</td>\n",
       "      <td>4</td>\n",
       "      <td>h</td>\n",
       "      <td>1600000.0</td>\n",
       "      <td>VB</td>\n",
       "      <td>4/06/2016</td>\n",
       "      <td>2.5</td>\n",
       "      <td>3067.0</td>\n",
       "      <td>1.0</td>\n",
       "      <td>2.0</td>\n",
       "      <td>120.0</td>\n",
       "      <td>142.0</td>\n",
       "      <td>2014.0</td>\n",
       "      <td>Yarra City Council</td>\n",
       "      <td>-37.8072</td>\n",
       "      <td>144.9941</td>\n",
       "      <td>Northern Metropolitan</td>\n",
       "    </tr>\n",
       "  </tbody>\n",
       "</table>\n",
       "</div>"
      ],
      "text/plain": [
       "       suburb           address  bedrooms type      price method       date  \\\n",
       "1  Abbotsford      85 Turner St         2    h  1480000.0      S  3/12/2016   \n",
       "2  Abbotsford   25 Bloomburg St         2    h  1035000.0      S  4/02/2016   \n",
       "4  Abbotsford      5 Charles St         3    h  1465000.0     SP  4/03/2017   \n",
       "5  Abbotsford  40 Federation La         3    h   850000.0     PI  4/03/2017   \n",
       "6  Abbotsford       55a Park St         4    h  1600000.0     VB  4/06/2016   \n",
       "\n",
       "   distance  postcode  bathrooms  car  land_size  building_area  year_built  \\\n",
       "1       2.5    3067.0        1.0  1.0      202.0            NaN         NaN   \n",
       "2       2.5    3067.0        1.0  0.0      156.0           79.0      1900.0   \n",
       "4       2.5    3067.0        2.0  0.0      134.0          150.0      1900.0   \n",
       "5       2.5    3067.0        2.0  1.0       94.0            NaN         NaN   \n",
       "6       2.5    3067.0        1.0  2.0      120.0          142.0      2014.0   \n",
       "\n",
       "         council_area  latitude  longtitude                 region  \n",
       "1  Yarra City Council  -37.7996    144.9984  Northern Metropolitan  \n",
       "2  Yarra City Council  -37.8079    144.9934  Northern Metropolitan  \n",
       "4  Yarra City Council  -37.8093    144.9944  Northern Metropolitan  \n",
       "5  Yarra City Council  -37.7969    144.9969  Northern Metropolitan  \n",
       "6  Yarra City Council  -37.8072    144.9941  Northern Metropolitan  "
      ]
     },
     "execution_count": 3,
     "metadata": {},
     "output_type": "execute_result"
    }
   ],
   "source": [
    "#remove all rows where price is not known\n",
    "melb1 = melb.dropna(subset=['price'])\n",
    "melb1.head()\n"
   ]
  },
  {
   "cell_type": "markdown",
   "id": "15196a8d",
   "metadata": {},
   "source": [
    "#### Remove all rows where building area is not known"
   ]
  },
  {
   "cell_type": "code",
   "execution_count": 4,
   "id": "35fe2e8d",
   "metadata": {},
   "outputs": [
    {
     "data": {
      "text/html": [
       "<div>\n",
       "<style scoped>\n",
       "    .dataframe tbody tr th:only-of-type {\n",
       "        vertical-align: middle;\n",
       "    }\n",
       "\n",
       "    .dataframe tbody tr th {\n",
       "        vertical-align: top;\n",
       "    }\n",
       "\n",
       "    .dataframe thead th {\n",
       "        text-align: right;\n",
       "    }\n",
       "</style>\n",
       "<table border=\"1\" class=\"dataframe\">\n",
       "  <thead>\n",
       "    <tr style=\"text-align: right;\">\n",
       "      <th></th>\n",
       "      <th>suburb</th>\n",
       "      <th>address</th>\n",
       "      <th>bedrooms</th>\n",
       "      <th>type</th>\n",
       "      <th>price</th>\n",
       "      <th>method</th>\n",
       "      <th>date</th>\n",
       "      <th>distance</th>\n",
       "      <th>postcode</th>\n",
       "      <th>bathrooms</th>\n",
       "      <th>car</th>\n",
       "      <th>land_size</th>\n",
       "      <th>building_area</th>\n",
       "      <th>year_built</th>\n",
       "      <th>council_area</th>\n",
       "      <th>latitude</th>\n",
       "      <th>longtitude</th>\n",
       "      <th>region</th>\n",
       "    </tr>\n",
       "  </thead>\n",
       "  <tbody>\n",
       "    <tr>\n",
       "      <th>2</th>\n",
       "      <td>Abbotsford</td>\n",
       "      <td>25 Bloomburg St</td>\n",
       "      <td>2</td>\n",
       "      <td>h</td>\n",
       "      <td>1035000.0</td>\n",
       "      <td>S</td>\n",
       "      <td>4/02/2016</td>\n",
       "      <td>2.5</td>\n",
       "      <td>3067.0</td>\n",
       "      <td>1.0</td>\n",
       "      <td>0.0</td>\n",
       "      <td>156.0</td>\n",
       "      <td>79.0</td>\n",
       "      <td>1900.0</td>\n",
       "      <td>Yarra City Council</td>\n",
       "      <td>-37.8079</td>\n",
       "      <td>144.9934</td>\n",
       "      <td>Northern Metropolitan</td>\n",
       "    </tr>\n",
       "    <tr>\n",
       "      <th>4</th>\n",
       "      <td>Abbotsford</td>\n",
       "      <td>5 Charles St</td>\n",
       "      <td>3</td>\n",
       "      <td>h</td>\n",
       "      <td>1465000.0</td>\n",
       "      <td>SP</td>\n",
       "      <td>4/03/2017</td>\n",
       "      <td>2.5</td>\n",
       "      <td>3067.0</td>\n",
       "      <td>2.0</td>\n",
       "      <td>0.0</td>\n",
       "      <td>134.0</td>\n",
       "      <td>150.0</td>\n",
       "      <td>1900.0</td>\n",
       "      <td>Yarra City Council</td>\n",
       "      <td>-37.8093</td>\n",
       "      <td>144.9944</td>\n",
       "      <td>Northern Metropolitan</td>\n",
       "    </tr>\n",
       "    <tr>\n",
       "      <th>6</th>\n",
       "      <td>Abbotsford</td>\n",
       "      <td>55a Park St</td>\n",
       "      <td>4</td>\n",
       "      <td>h</td>\n",
       "      <td>1600000.0</td>\n",
       "      <td>VB</td>\n",
       "      <td>4/06/2016</td>\n",
       "      <td>2.5</td>\n",
       "      <td>3067.0</td>\n",
       "      <td>1.0</td>\n",
       "      <td>2.0</td>\n",
       "      <td>120.0</td>\n",
       "      <td>142.0</td>\n",
       "      <td>2014.0</td>\n",
       "      <td>Yarra City Council</td>\n",
       "      <td>-37.8072</td>\n",
       "      <td>144.9941</td>\n",
       "      <td>Northern Metropolitan</td>\n",
       "    </tr>\n",
       "    <tr>\n",
       "      <th>11</th>\n",
       "      <td>Abbotsford</td>\n",
       "      <td>124 Yarra St</td>\n",
       "      <td>3</td>\n",
       "      <td>h</td>\n",
       "      <td>1876000.0</td>\n",
       "      <td>S</td>\n",
       "      <td>7/05/2016</td>\n",
       "      <td>2.5</td>\n",
       "      <td>3067.0</td>\n",
       "      <td>2.0</td>\n",
       "      <td>0.0</td>\n",
       "      <td>245.0</td>\n",
       "      <td>210.0</td>\n",
       "      <td>1910.0</td>\n",
       "      <td>Yarra City Council</td>\n",
       "      <td>-37.8024</td>\n",
       "      <td>144.9993</td>\n",
       "      <td>Northern Metropolitan</td>\n",
       "    </tr>\n",
       "    <tr>\n",
       "      <th>14</th>\n",
       "      <td>Abbotsford</td>\n",
       "      <td>98 Charles St</td>\n",
       "      <td>2</td>\n",
       "      <td>h</td>\n",
       "      <td>1636000.0</td>\n",
       "      <td>S</td>\n",
       "      <td>8/10/2016</td>\n",
       "      <td>2.5</td>\n",
       "      <td>3067.0</td>\n",
       "      <td>1.0</td>\n",
       "      <td>2.0</td>\n",
       "      <td>256.0</td>\n",
       "      <td>107.0</td>\n",
       "      <td>1890.0</td>\n",
       "      <td>Yarra City Council</td>\n",
       "      <td>-37.8060</td>\n",
       "      <td>144.9954</td>\n",
       "      <td>Northern Metropolitan</td>\n",
       "    </tr>\n",
       "  </tbody>\n",
       "</table>\n",
       "</div>"
      ],
      "text/plain": [
       "        suburb          address  bedrooms type      price method       date  \\\n",
       "2   Abbotsford  25 Bloomburg St         2    h  1035000.0      S  4/02/2016   \n",
       "4   Abbotsford     5 Charles St         3    h  1465000.0     SP  4/03/2017   \n",
       "6   Abbotsford      55a Park St         4    h  1600000.0     VB  4/06/2016   \n",
       "11  Abbotsford     124 Yarra St         3    h  1876000.0      S  7/05/2016   \n",
       "14  Abbotsford    98 Charles St         2    h  1636000.0      S  8/10/2016   \n",
       "\n",
       "    distance  postcode  bathrooms  car  land_size  building_area  year_built  \\\n",
       "2        2.5    3067.0        1.0  0.0      156.0           79.0      1900.0   \n",
       "4        2.5    3067.0        2.0  0.0      134.0          150.0      1900.0   \n",
       "6        2.5    3067.0        1.0  2.0      120.0          142.0      2014.0   \n",
       "11       2.5    3067.0        2.0  0.0      245.0          210.0      1910.0   \n",
       "14       2.5    3067.0        1.0  2.0      256.0          107.0      1890.0   \n",
       "\n",
       "          council_area  latitude  longtitude                 region  \n",
       "2   Yarra City Council  -37.8079    144.9934  Northern Metropolitan  \n",
       "4   Yarra City Council  -37.8093    144.9944  Northern Metropolitan  \n",
       "6   Yarra City Council  -37.8072    144.9941  Northern Metropolitan  \n",
       "11  Yarra City Council  -37.8024    144.9993  Northern Metropolitan  \n",
       "14  Yarra City Council  -37.8060    144.9954  Northern Metropolitan  "
      ]
     },
     "execution_count": 4,
     "metadata": {},
     "output_type": "execute_result"
    }
   ],
   "source": [
    "melb1 = melb1.dropna(subset=['building_area'])\n",
    "melb1.head()"
   ]
  },
  {
   "cell_type": "markdown",
   "id": "8562445d",
   "metadata": {},
   "source": [
    "##### Cleaning the data using Building area and assuming a lower and upper bound"
   ]
  },
  {
   "cell_type": "markdown",
   "id": "5010ea75",
   "metadata": {},
   "source": [
    "First, I'll check all the listings for houses and units where the building area is listed as 0. It's clear that a house or a unit can't have a building area of 0, so these listings are not accurate.\n",
    "\n",
    "Next, I'll identify properties with very big building areas. I think anything above 1000 square meters might not be a normal size for a regular home. While mansions can be large, sizes beyond 1000 square meters are probably not common for typical homes."
   ]
  },
  {
   "cell_type": "code",
   "execution_count": 5,
   "id": "6daaeceb",
   "metadata": {},
   "outputs": [
    {
     "name": "stdout",
     "output_type": "stream",
     "text": [
      "Total no. of records: 10656\n",
      "Total no. of records where building_area is 0: 61\n",
      "Total no. of records where building_area is greater than 0: 10595\n",
      "Total no. of records where building_area is greater than 1000: 9\n"
     ]
    }
   ],
   "source": [
    "# Counting the no. of records in the 'building area' column\n",
    "print(\"Total no. of records:\", len(melb1['building_area']))\n",
    "\n",
    "# Count of records where building_area is 0\n",
    "print(\"Total no. of records where building_area is 0:\",len( melb1[melb1['building_area'] == 0] ))\n",
    "\n",
    "# Count of records where building_area is greater than 0\n",
    "print(\"Total no. of records where building_area is greater than 0:\", len(melb1[melb1['building_area'] > 0]))\n",
    "\n",
    "# Count of records where building_area is greater than 1000\n",
    "print(\"Total no. of records where building_area is greater than 1000:\", len(melb1[melb1['building_area'] > 1000]))\n"
   ]
  },
  {
   "cell_type": "markdown",
   "id": "5e179518",
   "metadata": {},
   "source": [
    "Now, I'm selecting the records where the building area is between 10 and 1000 square meters."
   ]
  },
  {
   "cell_type": "code",
   "execution_count": 6,
   "id": "41ba9381",
   "metadata": {},
   "outputs": [
    {
     "name": "stdout",
     "output_type": "stream",
     "text": [
      "Total no. of records where building_area is less than 10: 125\n",
      "Total no. of records where building_area is between 10 and 1000: 10521\n"
     ]
    }
   ],
   "source": [
    "# Count of records where building_area is less than 10\n",
    "print(\"Total no. of records where building_area is less than 10:\",len( melb1[melb1['building_area'] < 10] ))\n",
    "# Count of records where building_area is between 10 and 1000\n",
    "melb2= melb1[(melb1['building_area'] >10) & (melb1['building_area'] < 1000)]\n",
    "print(\"Total no. of records where building_area is between 10 and 1000:\", len( melb2['building_area']))\n"
   ]
  },
  {
   "cell_type": "markdown",
   "id": "29487a22",
   "metadata": {},
   "source": [
    "Here I'm doing a quick scatter plot to see any further outliers in terms of building area."
   ]
  },
  {
   "cell_type": "code",
   "execution_count": 7,
   "id": "e5439843",
   "metadata": {},
   "outputs": [
    {
     "data": {
      "text/plain": [
       "<AxesSubplot:xlabel='building_area', ylabel='price'>"
      ]
     },
     "execution_count": 7,
     "metadata": {},
     "output_type": "execute_result"
    },
    {
     "data": {
      "image/png": "[encoded data removed]",
      "text/plain": [
       "<Figure size 432x288 with 1 Axes>"
      ]
     },
     "metadata": {
      "needs_background": "light"
     },
     "output_type": "display_data"
    }
   ],
   "source": [
    "melb2.plot(x='building_area', y='price', kind='scatter' )"
   ]
  },
  {
   "cell_type": "markdown",
   "id": "4561bdc4",
   "metadata": {},
   "source": [
    "\n",
    "The scatter plot shows that many properties sold have a building area less than 400 square meters. It's surprising that even when the building area increases, the price doesn't always go up, which is not what we'd expect. The most expensive property isn't very big, and the property with the biggest area costs less than 1M dollars. "
   ]
  },
  {
   "cell_type": "markdown",
   "id": "0fe0a14d",
   "metadata": {},
   "source": [
    "#### Convert the date column to the pandas datetime type"
   ]
  },
  {
   "cell_type": "code",
   "execution_count": 8,
   "id": "7af7dd92",
   "metadata": {},
   "outputs": [
    {
     "name": "stderr",
     "output_type": "stream",
     "text": [
      "C:\\ProgramData\\Anaconda3\\lib\\site-packages\\pandas\\core\\tools\\datetimes.py:1047: UserWarning: Parsing '15/10/2016' in DD/MM/YYYY format. Provide format or specify infer_datetime_format=True for consistent parsing.\n",
      "  cache_array = _maybe_cache(arg, format, cache, convert_listlike)\n",
      "C:\\ProgramData\\Anaconda3\\lib\\site-packages\\pandas\\core\\tools\\datetimes.py:1047: UserWarning: Parsing '16/07/2016' in DD/MM/YYYY format. Provide format or specify infer_datetime_format=True for consistent parsing.\n",
      "  cache_array = _maybe_cache(arg, format, cache, convert_listlike)\n",
      "C:\\ProgramData\\Anaconda3\\lib\\site-packages\\pandas\\core\\tools\\datetimes.py:1047: UserWarning: Parsing '17/09/2016' in DD/MM/YYYY format. Provide format or specify infer_datetime_format=True for consistent parsing.\n",
      "  cache_array = _maybe_cache(arg, format, cache, convert_listlike)\n",
      "C:\\ProgramData\\Anaconda3\\lib\\site-packages\\pandas\\core\\tools\\datetimes.py:1047: UserWarning: Parsing '18/03/2017' in DD/MM/YYYY format. Provide format or specify infer_datetime_format=True for consistent parsing.\n",
      "  cache_array = _maybe_cache(arg, format, cache, convert_listlike)\n",
      "C:\\ProgramData\\Anaconda3\\lib\\site-packages\\pandas\\core\\tools\\datetimes.py:1047: UserWarning: Parsing '18/06/2016' in DD/MM/YYYY format. Provide format or specify infer_datetime_format=True for consistent parsing.\n",
      "  cache_array = _maybe_cache(arg, format, cache, convert_listlike)\n",
      "C:\\ProgramData\\Anaconda3\\lib\\site-packages\\pandas\\core\\tools\\datetimes.py:1047: UserWarning: Parsing '19/11/2016' in DD/MM/YYYY format. Provide format or specify infer_datetime_format=True for consistent parsing.\n",
      "  cache_array = _maybe_cache(arg, format, cache, convert_listlike)\n",
      "C:\\ProgramData\\Anaconda3\\lib\\site-packages\\pandas\\core\\tools\\datetimes.py:1047: UserWarning: Parsing '22/08/2016' in DD/MM/YYYY format. Provide format or specify infer_datetime_format=True for consistent parsing.\n",
      "  cache_array = _maybe_cache(arg, format, cache, convert_listlike)\n",
      "C:\\ProgramData\\Anaconda3\\lib\\site-packages\\pandas\\core\\tools\\datetimes.py:1047: UserWarning: Parsing '25/02/2017' in DD/MM/YYYY format. Provide format or specify infer_datetime_format=True for consistent parsing.\n",
      "  cache_array = _maybe_cache(arg, format, cache, convert_listlike)\n",
      "C:\\ProgramData\\Anaconda3\\lib\\site-packages\\pandas\\core\\tools\\datetimes.py:1047: UserWarning: Parsing '26/07/2016' in DD/MM/YYYY format. Provide format or specify infer_datetime_format=True for consistent parsing.\n",
      "  cache_array = _maybe_cache(arg, format, cache, convert_listlike)\n",
      "C:\\ProgramData\\Anaconda3\\lib\\site-packages\\pandas\\core\\tools\\datetimes.py:1047: UserWarning: Parsing '27/11/2016' in DD/MM/YYYY format. Provide format or specify infer_datetime_format=True for consistent parsing.\n",
      "  cache_array = _maybe_cache(arg, format, cache, convert_listlike)\n",
      "C:\\ProgramData\\Anaconda3\\lib\\site-packages\\pandas\\core\\tools\\datetimes.py:1047: UserWarning: Parsing '28/05/2016' in DD/MM/YYYY format. Provide format or specify infer_datetime_format=True for consistent parsing.\n",
      "  cache_array = _maybe_cache(arg, format, cache, convert_listlike)\n",
      "C:\\ProgramData\\Anaconda3\\lib\\site-packages\\pandas\\core\\tools\\datetimes.py:1047: UserWarning: Parsing '30/07/2016' in DD/MM/YYYY format. Provide format or specify infer_datetime_format=True for consistent parsing.\n",
      "  cache_array = _maybe_cache(arg, format, cache, convert_listlike)\n",
      "C:\\ProgramData\\Anaconda3\\lib\\site-packages\\pandas\\core\\tools\\datetimes.py:1047: UserWarning: Parsing '16/04/2016' in DD/MM/YYYY format. Provide format or specify infer_datetime_format=True for consistent parsing.\n",
      "  cache_array = _maybe_cache(arg, format, cache, convert_listlike)\n",
      "C:\\ProgramData\\Anaconda3\\lib\\site-packages\\pandas\\core\\tools\\datetimes.py:1047: UserWarning: Parsing '22/05/2016' in DD/MM/YYYY format. Provide format or specify infer_datetime_format=True for consistent parsing.\n",
      "  cache_array = _maybe_cache(arg, format, cache, convert_listlike)\n",
      "C:\\ProgramData\\Anaconda3\\lib\\site-packages\\pandas\\core\\tools\\datetimes.py:1047: UserWarning: Parsing '23/04/2016' in DD/MM/YYYY format. Provide format or specify infer_datetime_format=True for consistent parsing.\n",
      "  cache_array = _maybe_cache(arg, format, cache, convert_listlike)\n",
      "C:\\ProgramData\\Anaconda3\\lib\\site-packages\\pandas\\core\\tools\\datetimes.py:1047: UserWarning: Parsing '24/09/2016' in DD/MM/YYYY format. Provide format or specify infer_datetime_format=True for consistent parsing.\n",
      "  cache_array = _maybe_cache(arg, format, cache, convert_listlike)\n",
      "C:\\ProgramData\\Anaconda3\\lib\\site-packages\\pandas\\core\\tools\\datetimes.py:1047: UserWarning: Parsing '27/06/2016' in DD/MM/YYYY format. Provide format or specify infer_datetime_format=True for consistent parsing.\n",
      "  cache_array = _maybe_cache(arg, format, cache, convert_listlike)\n",
      "C:\\ProgramData\\Anaconda3\\lib\\site-packages\\pandas\\core\\tools\\datetimes.py:1047: UserWarning: Parsing '28/08/2016' in DD/MM/YYYY format. Provide format or specify infer_datetime_format=True for consistent parsing.\n",
      "  cache_array = _maybe_cache(arg, format, cache, convert_listlike)\n",
      "C:\\ProgramData\\Anaconda3\\lib\\site-packages\\pandas\\core\\tools\\datetimes.py:1047: UserWarning: Parsing '13/08/2016' in DD/MM/YYYY format. Provide format or specify infer_datetime_format=True for consistent parsing.\n",
      "  cache_array = _maybe_cache(arg, format, cache, convert_listlike)\n",
      "C:\\ProgramData\\Anaconda3\\lib\\site-packages\\pandas\\core\\tools\\datetimes.py:1047: UserWarning: Parsing '14/05/2016' in DD/MM/YYYY format. Provide format or specify infer_datetime_format=True for consistent parsing.\n",
      "  cache_array = _maybe_cache(arg, format, cache, convert_listlike)\n",
      "C:\\ProgramData\\Anaconda3\\lib\\site-packages\\pandas\\core\\tools\\datetimes.py:1047: UserWarning: Parsing '29/04/2017' in DD/MM/YYYY format. Provide format or specify infer_datetime_format=True for consistent parsing.\n",
      "  cache_array = _maybe_cache(arg, format, cache, convert_listlike)\n",
      "C:\\ProgramData\\Anaconda3\\lib\\site-packages\\pandas\\core\\tools\\datetimes.py:1047: UserWarning: Parsing '20/05/2017' in DD/MM/YYYY format. Provide format or specify infer_datetime_format=True for consistent parsing.\n",
      "  cache_array = _maybe_cache(arg, format, cache, convert_listlike)\n",
      "C:\\ProgramData\\Anaconda3\\lib\\site-packages\\pandas\\core\\tools\\datetimes.py:1047: UserWarning: Parsing '22/04/2017' in DD/MM/YYYY format. Provide format or specify infer_datetime_format=True for consistent parsing.\n",
      "  cache_array = _maybe_cache(arg, format, cache, convert_listlike)\n",
      "C:\\ProgramData\\Anaconda3\\lib\\site-packages\\pandas\\core\\tools\\datetimes.py:1047: UserWarning: Parsing '13/05/2017' in DD/MM/YYYY format. Provide format or specify infer_datetime_format=True for consistent parsing.\n",
      "  cache_array = _maybe_cache(arg, format, cache, convert_listlike)\n",
      "C:\\ProgramData\\Anaconda3\\lib\\site-packages\\pandas\\core\\tools\\datetimes.py:1047: UserWarning: Parsing '17/06/2017' in DD/MM/YYYY format. Provide format or specify infer_datetime_format=True for consistent parsing.\n",
      "  cache_array = _maybe_cache(arg, format, cache, convert_listlike)\n",
      "C:\\ProgramData\\Anaconda3\\lib\\site-packages\\pandas\\core\\tools\\datetimes.py:1047: UserWarning: Parsing '24/06/2017' in DD/MM/YYYY format. Provide format or specify infer_datetime_format=True for consistent parsing.\n",
      "  cache_array = _maybe_cache(arg, format, cache, convert_listlike)\n",
      "C:\\ProgramData\\Anaconda3\\lib\\site-packages\\pandas\\core\\tools\\datetimes.py:1047: UserWarning: Parsing '27/05/2017' in DD/MM/YYYY format. Provide format or specify infer_datetime_format=True for consistent parsing.\n",
      "  cache_array = _maybe_cache(arg, format, cache, convert_listlike)\n",
      "C:\\ProgramData\\Anaconda3\\lib\\site-packages\\pandas\\core\\tools\\datetimes.py:1047: UserWarning: Parsing '15/07/2017' in DD/MM/YYYY format. Provide format or specify infer_datetime_format=True for consistent parsing.\n",
      "  cache_array = _maybe_cache(arg, format, cache, convert_listlike)\n",
      "C:\\ProgramData\\Anaconda3\\lib\\site-packages\\pandas\\core\\tools\\datetimes.py:1047: UserWarning: Parsing '22/07/2017' in DD/MM/YYYY format. Provide format or specify infer_datetime_format=True for consistent parsing.\n",
      "  cache_array = _maybe_cache(arg, format, cache, convert_listlike)\n",
      "C:\\ProgramData\\Anaconda3\\lib\\site-packages\\pandas\\core\\tools\\datetimes.py:1047: UserWarning: Parsing '29/07/2017' in DD/MM/YYYY format. Provide format or specify infer_datetime_format=True for consistent parsing.\n",
      "  cache_array = _maybe_cache(arg, format, cache, convert_listlike)\n",
      "C:\\ProgramData\\Anaconda3\\lib\\site-packages\\pandas\\core\\tools\\datetimes.py:1047: UserWarning: Parsing '16/09/2017' in DD/MM/YYYY format. Provide format or specify infer_datetime_format=True for consistent parsing.\n",
      "  cache_array = _maybe_cache(arg, format, cache, convert_listlike)\n",
      "C:\\ProgramData\\Anaconda3\\lib\\site-packages\\pandas\\core\\tools\\datetimes.py:1047: UserWarning: Parsing '19/08/2017' in DD/MM/YYYY format. Provide format or specify infer_datetime_format=True for consistent parsing.\n",
      "  cache_array = _maybe_cache(arg, format, cache, convert_listlike)\n",
      "C:\\ProgramData\\Anaconda3\\lib\\site-packages\\pandas\\core\\tools\\datetimes.py:1047: UserWarning: Parsing '23/09/2017' in DD/MM/YYYY format. Provide format or specify infer_datetime_format=True for consistent parsing.\n",
      "  cache_array = _maybe_cache(arg, format, cache, convert_listlike)\n",
      "C:\\ProgramData\\Anaconda3\\lib\\site-packages\\pandas\\core\\tools\\datetimes.py:1047: UserWarning: Parsing '26/08/2017' in DD/MM/YYYY format. Provide format or specify infer_datetime_format=True for consistent parsing.\n",
      "  cache_array = _maybe_cache(arg, format, cache, convert_listlike)\n",
      "C:\\ProgramData\\Anaconda3\\lib\\site-packages\\pandas\\core\\tools\\datetimes.py:1047: UserWarning: Parsing '14/10/2017' in DD/MM/YYYY format. Provide format or specify infer_datetime_format=True for consistent parsing.\n",
      "  cache_array = _maybe_cache(arg, format, cache, convert_listlike)\n",
      "C:\\ProgramData\\Anaconda3\\lib\\site-packages\\pandas\\core\\tools\\datetimes.py:1047: UserWarning: Parsing '21/10/2017' in DD/MM/YYYY format. Provide format or specify infer_datetime_format=True for consistent parsing.\n",
      "  cache_array = _maybe_cache(arg, format, cache, convert_listlike)\n",
      "C:\\ProgramData\\Anaconda3\\lib\\site-packages\\pandas\\core\\tools\\datetimes.py:1047: UserWarning: Parsing '28/10/2017' in DD/MM/YYYY format. Provide format or specify infer_datetime_format=True for consistent parsing.\n",
      "  cache_array = _maybe_cache(arg, format, cache, convert_listlike)\n",
      "C:\\ProgramData\\Anaconda3\\lib\\site-packages\\pandas\\core\\tools\\datetimes.py:1047: UserWarning: Parsing '30/09/2017' in DD/MM/YYYY format. Provide format or specify infer_datetime_format=True for consistent parsing.\n",
      "  cache_array = _maybe_cache(arg, format, cache, convert_listlike)\n",
      "C:\\ProgramData\\Anaconda3\\lib\\site-packages\\pandas\\core\\tools\\datetimes.py:1047: UserWarning: Parsing '18/11/2017' in DD/MM/YYYY format. Provide format or specify infer_datetime_format=True for consistent parsing.\n",
      "  cache_array = _maybe_cache(arg, format, cache, convert_listlike)\n",
      "C:\\ProgramData\\Anaconda3\\lib\\site-packages\\pandas\\core\\tools\\datetimes.py:1047: UserWarning: Parsing '25/11/2017' in DD/MM/YYYY format. Provide format or specify infer_datetime_format=True for consistent parsing.\n",
      "  cache_array = _maybe_cache(arg, format, cache, convert_listlike)\n",
      "C:\\ProgramData\\Anaconda3\\lib\\site-packages\\pandas\\core\\tools\\datetimes.py:1047: UserWarning: Parsing '20/01/2018' in DD/MM/YYYY format. Provide format or specify infer_datetime_format=True for consistent parsing.\n",
      "  cache_array = _maybe_cache(arg, format, cache, convert_listlike)\n",
      "C:\\ProgramData\\Anaconda3\\lib\\site-packages\\pandas\\core\\tools\\datetimes.py:1047: UserWarning: Parsing '27/01/2018' in DD/MM/YYYY format. Provide format or specify infer_datetime_format=True for consistent parsing.\n",
      "  cache_array = _maybe_cache(arg, format, cache, convert_listlike)\n",
      "C:\\ProgramData\\Anaconda3\\lib\\site-packages\\pandas\\core\\tools\\datetimes.py:1047: UserWarning: Parsing '17/02/2018' in DD/MM/YYYY format. Provide format or specify infer_datetime_format=True for consistent parsing.\n",
      "  cache_array = _maybe_cache(arg, format, cache, convert_listlike)\n",
      "C:\\ProgramData\\Anaconda3\\lib\\site-packages\\pandas\\core\\tools\\datetimes.py:1047: UserWarning: Parsing '17/03/2018' in DD/MM/YYYY format. Provide format or specify infer_datetime_format=True for consistent parsing.\n",
      "  cache_array = _maybe_cache(arg, format, cache, convert_listlike)\n",
      "C:\\ProgramData\\Anaconda3\\lib\\site-packages\\pandas\\core\\tools\\datetimes.py:1047: UserWarning: Parsing '24/02/2018' in DD/MM/YYYY format. Provide format or specify infer_datetime_format=True for consistent parsing.\n",
      "  cache_array = _maybe_cache(arg, format, cache, convert_listlike)\n"
     ]
    },
    {
     "name": "stderr",
     "output_type": "stream",
     "text": [
      "C:\\Users\\Admin\\AppData\\Local\\Temp\\ipykernel_12716\\3917579899.py:1: SettingWithCopyWarning: \n",
      "A value is trying to be set on a copy of a slice from a DataFrame.\n",
      "Try using .loc[row_indexer,col_indexer] = value instead\n",
      "\n",
      "See the caveats in the documentation: https://pandas.pydata.org/pandas-docs/stable/user_guide/indexing.html#returning-a-view-versus-a-copy\n",
      "  melb2['date'] = pd.to_datetime(melb2['date'])\n",
      "C:\\Users\\Admin\\AppData\\Local\\Temp\\ipykernel_12716\\3917579899.py:4: SettingWithCopyWarning: \n",
      "A value is trying to be set on a copy of a slice from a DataFrame.\n",
      "Try using .loc[row_indexer,col_indexer] = value instead\n",
      "\n",
      "See the caveats in the documentation: https://pandas.pydata.org/pandas-docs/stable/user_guide/indexing.html#returning-a-view-versus-a-copy\n",
      "  melb2['sale_year'] = melb2['date'].dt.year\n"
     ]
    }
   ],
   "source": [
    "melb2['date'] = pd.to_datetime(melb2['date'])\n",
    "\n",
    "#Create year (to be used later)\n",
    "melb2['sale_year'] = melb2['date'].dt.year"
   ]
  },
  {
   "cell_type": "code",
   "execution_count": 49,
   "id": "84b1fde7",
   "metadata": {},
   "outputs": [
    {
     "data": {
      "text/html": [
       "<div>\n",
       "<style scoped>\n",
       "    .dataframe tbody tr th:only-of-type {\n",
       "        vertical-align: middle;\n",
       "    }\n",
       "\n",
       "    .dataframe tbody tr th {\n",
       "        vertical-align: top;\n",
       "    }\n",
       "\n",
       "    .dataframe thead th {\n",
       "        text-align: right;\n",
       "    }\n",
       "</style>\n",
       "<table border=\"1\" class=\"dataframe\">\n",
       "  <thead>\n",
       "    <tr style=\"text-align: right;\">\n",
       "      <th></th>\n",
       "      <th>suburb</th>\n",
       "      <th>address</th>\n",
       "      <th>bedrooms</th>\n",
       "      <th>type</th>\n",
       "      <th>price</th>\n",
       "      <th>method</th>\n",
       "      <th>date</th>\n",
       "      <th>distance</th>\n",
       "      <th>postcode</th>\n",
       "      <th>bathrooms</th>\n",
       "      <th>car</th>\n",
       "      <th>land_size</th>\n",
       "      <th>building_area</th>\n",
       "      <th>year_built</th>\n",
       "      <th>council_area</th>\n",
       "      <th>latitude</th>\n",
       "      <th>longtitude</th>\n",
       "      <th>region</th>\n",
       "      <th>sale_year</th>\n",
       "    </tr>\n",
       "  </thead>\n",
       "  <tbody>\n",
       "    <tr>\n",
       "      <th>2</th>\n",
       "      <td>Abbotsford</td>\n",
       "      <td>25 Bloomburg St</td>\n",
       "      <td>2</td>\n",
       "      <td>h</td>\n",
       "      <td>1035000.0</td>\n",
       "      <td>S</td>\n",
       "      <td>2016-04-02</td>\n",
       "      <td>2.5</td>\n",
       "      <td>3067.0</td>\n",
       "      <td>1.0</td>\n",
       "      <td>0.0</td>\n",
       "      <td>156.0</td>\n",
       "      <td>79.0</td>\n",
       "      <td>1900.0</td>\n",
       "      <td>Yarra City Council</td>\n",
       "      <td>-37.8079</td>\n",
       "      <td>144.9934</td>\n",
       "      <td>Northern Metropolitan</td>\n",
       "      <td>2016</td>\n",
       "    </tr>\n",
       "    <tr>\n",
       "      <th>4</th>\n",
       "      <td>Abbotsford</td>\n",
       "      <td>5 Charles St</td>\n",
       "      <td>3</td>\n",
       "      <td>h</td>\n",
       "      <td>1465000.0</td>\n",
       "      <td>SP</td>\n",
       "      <td>2017-04-03</td>\n",
       "      <td>2.5</td>\n",
       "      <td>3067.0</td>\n",
       "      <td>2.0</td>\n",
       "      <td>0.0</td>\n",
       "      <td>134.0</td>\n",
       "      <td>150.0</td>\n",
       "      <td>1900.0</td>\n",
       "      <td>Yarra City Council</td>\n",
       "      <td>-37.8093</td>\n",
       "      <td>144.9944</td>\n",
       "      <td>Northern Metropolitan</td>\n",
       "      <td>2017</td>\n",
       "    </tr>\n",
       "    <tr>\n",
       "      <th>6</th>\n",
       "      <td>Abbotsford</td>\n",
       "      <td>55a Park St</td>\n",
       "      <td>4</td>\n",
       "      <td>h</td>\n",
       "      <td>1600000.0</td>\n",
       "      <td>VB</td>\n",
       "      <td>2016-04-06</td>\n",
       "      <td>2.5</td>\n",
       "      <td>3067.0</td>\n",
       "      <td>1.0</td>\n",
       "      <td>2.0</td>\n",
       "      <td>120.0</td>\n",
       "      <td>142.0</td>\n",
       "      <td>2014.0</td>\n",
       "      <td>Yarra City Council</td>\n",
       "      <td>-37.8072</td>\n",
       "      <td>144.9941</td>\n",
       "      <td>Northern Metropolitan</td>\n",
       "      <td>2016</td>\n",
       "    </tr>\n",
       "    <tr>\n",
       "      <th>11</th>\n",
       "      <td>Abbotsford</td>\n",
       "      <td>124 Yarra St</td>\n",
       "      <td>3</td>\n",
       "      <td>h</td>\n",
       "      <td>1876000.0</td>\n",
       "      <td>S</td>\n",
       "      <td>2016-07-05</td>\n",
       "      <td>2.5</td>\n",
       "      <td>3067.0</td>\n",
       "      <td>2.0</td>\n",
       "      <td>0.0</td>\n",
       "      <td>245.0</td>\n",
       "      <td>210.0</td>\n",
       "      <td>1910.0</td>\n",
       "      <td>Yarra City Council</td>\n",
       "      <td>-37.8024</td>\n",
       "      <td>144.9993</td>\n",
       "      <td>Northern Metropolitan</td>\n",
       "      <td>2016</td>\n",
       "    </tr>\n",
       "    <tr>\n",
       "      <th>14</th>\n",
       "      <td>Abbotsford</td>\n",
       "      <td>98 Charles St</td>\n",
       "      <td>2</td>\n",
       "      <td>h</td>\n",
       "      <td>1636000.0</td>\n",
       "      <td>S</td>\n",
       "      <td>2016-08-10</td>\n",
       "      <td>2.5</td>\n",
       "      <td>3067.0</td>\n",
       "      <td>1.0</td>\n",
       "      <td>2.0</td>\n",
       "      <td>256.0</td>\n",
       "      <td>107.0</td>\n",
       "      <td>1890.0</td>\n",
       "      <td>Yarra City Council</td>\n",
       "      <td>-37.8060</td>\n",
       "      <td>144.9954</td>\n",
       "      <td>Northern Metropolitan</td>\n",
       "      <td>2016</td>\n",
       "    </tr>\n",
       "  </tbody>\n",
       "</table>\n",
       "</div>"
      ],
      "text/plain": [
       "        suburb          address  bedrooms type      price method       date  \\\n",
       "2   Abbotsford  25 Bloomburg St         2    h  1035000.0      S 2016-04-02   \n",
       "4   Abbotsford     5 Charles St         3    h  1465000.0     SP 2017-04-03   \n",
       "6   Abbotsford      55a Park St         4    h  1600000.0     VB 2016-04-06   \n",
       "11  Abbotsford     124 Yarra St         3    h  1876000.0      S 2016-07-05   \n",
       "14  Abbotsford    98 Charles St         2    h  1636000.0      S 2016-08-10   \n",
       "\n",
       "    distance  postcode  bathrooms  car  land_size  building_area  year_built  \\\n",
       "2        2.5    3067.0        1.0  0.0      156.0           79.0      1900.0   \n",
       "4        2.5    3067.0        2.0  0.0      134.0          150.0      1900.0   \n",
       "6        2.5    3067.0        1.0  2.0      120.0          142.0      2014.0   \n",
       "11       2.5    3067.0        2.0  0.0      245.0          210.0      1910.0   \n",
       "14       2.5    3067.0        1.0  2.0      256.0          107.0      1890.0   \n",
       "\n",
       "          council_area  latitude  longtitude                 region  sale_year  \n",
       "2   Yarra City Council  -37.8079    144.9934  Northern Metropolitan       2016  \n",
       "4   Yarra City Council  -37.8093    144.9944  Northern Metropolitan       2017  \n",
       "6   Yarra City Council  -37.8072    144.9941  Northern Metropolitan       2016  \n",
       "11  Yarra City Council  -37.8024    144.9993  Northern Metropolitan       2016  \n",
       "14  Yarra City Council  -37.8060    144.9954  Northern Metropolitan       2016  "
      ]
     },
     "execution_count": 49,
     "metadata": {},
     "output_type": "execute_result"
    }
   ],
   "source": [
    "melb2.head()"
   ]
  },
  {
   "cell_type": "code",
   "execution_count": 50,
   "id": "810a2521",
   "metadata": {},
   "outputs": [
    {
     "data": {
      "text/plain": [
       "suburb                   object\n",
       "address                  object\n",
       "bedrooms                  int64\n",
       "type                     object\n",
       "price                   float64\n",
       "method                   object\n",
       "date             datetime64[ns]\n",
       "distance                float64\n",
       "postcode                float64\n",
       "bathrooms               float64\n",
       "car                     float64\n",
       "land_size               float64\n",
       "building_area           float64\n",
       "year_built              float64\n",
       "council_area             object\n",
       "latitude                float64\n",
       "longtitude              float64\n",
       "region                   object\n",
       "sale_year                 int64\n",
       "dtype: object"
      ]
     },
     "execution_count": 50,
     "metadata": {},
     "output_type": "execute_result"
    }
   ],
   "source": [
    "melb2.dtypes"
   ]
  },
  {
   "cell_type": "markdown",
   "id": "c9edabf8",
   "metadata": {},
   "source": [
    "#### Other Cleaning"
   ]
  },
  {
   "cell_type": "markdown",
   "id": "c5ebdf2a",
   "metadata": {},
   "source": [
    "##### Removing all houses where land size is 0"
   ]
  },
  {
   "cell_type": "code",
   "execution_count": 51,
   "id": "e9514974",
   "metadata": {},
   "outputs": [
    {
     "name": "stdout",
     "output_type": "stream",
     "text": [
      "Land size equal to 0:  1050\n",
      "Houses with land size equal to 0: 81\n"
     ]
    }
   ],
   "source": [
    "print(\"Land size equal to 0: \",len( melb2[melb2.land_size== 0]))\n",
    "print( \"Houses with land size equal to 0:\" ,len( melb2[(melb2.land_size== 0) & (melb2.type == 'h')] ))"
   ]
  },
  {
   "cell_type": "code",
   "execution_count": 52,
   "id": "78cb2b77",
   "metadata": {},
   "outputs": [
    {
     "data": {
      "text/html": [
       "<div>\n",
       "<style scoped>\n",
       "    .dataframe tbody tr th:only-of-type {\n",
       "        vertical-align: middle;\n",
       "    }\n",
       "\n",
       "    .dataframe tbody tr th {\n",
       "        vertical-align: top;\n",
       "    }\n",
       "\n",
       "    .dataframe thead th {\n",
       "        text-align: right;\n",
       "    }\n",
       "</style>\n",
       "<table border=\"1\" class=\"dataframe\">\n",
       "  <thead>\n",
       "    <tr style=\"text-align: right;\">\n",
       "      <th></th>\n",
       "      <th>suburb</th>\n",
       "      <th>address</th>\n",
       "      <th>bedrooms</th>\n",
       "      <th>type</th>\n",
       "      <th>price</th>\n",
       "      <th>method</th>\n",
       "      <th>date</th>\n",
       "      <th>distance</th>\n",
       "      <th>postcode</th>\n",
       "      <th>bathrooms</th>\n",
       "      <th>car</th>\n",
       "      <th>land_size</th>\n",
       "      <th>building_area</th>\n",
       "      <th>year_built</th>\n",
       "      <th>council_area</th>\n",
       "      <th>latitude</th>\n",
       "      <th>longtitude</th>\n",
       "      <th>region</th>\n",
       "      <th>sale_year</th>\n",
       "    </tr>\n",
       "  </thead>\n",
       "  <tbody>\n",
       "    <tr>\n",
       "      <th>2</th>\n",
       "      <td>Abbotsford</td>\n",
       "      <td>25 Bloomburg St</td>\n",
       "      <td>2</td>\n",
       "      <td>h</td>\n",
       "      <td>1035000.0</td>\n",
       "      <td>S</td>\n",
       "      <td>2016-04-02</td>\n",
       "      <td>2.5</td>\n",
       "      <td>3067.0</td>\n",
       "      <td>1.0</td>\n",
       "      <td>0.0</td>\n",
       "      <td>156.0</td>\n",
       "      <td>79.0</td>\n",
       "      <td>1900.0</td>\n",
       "      <td>Yarra City Council</td>\n",
       "      <td>-37.8079</td>\n",
       "      <td>144.9934</td>\n",
       "      <td>Northern Metropolitan</td>\n",
       "      <td>2016</td>\n",
       "    </tr>\n",
       "    <tr>\n",
       "      <th>4</th>\n",
       "      <td>Abbotsford</td>\n",
       "      <td>5 Charles St</td>\n",
       "      <td>3</td>\n",
       "      <td>h</td>\n",
       "      <td>1465000.0</td>\n",
       "      <td>SP</td>\n",
       "      <td>2017-04-03</td>\n",
       "      <td>2.5</td>\n",
       "      <td>3067.0</td>\n",
       "      <td>2.0</td>\n",
       "      <td>0.0</td>\n",
       "      <td>134.0</td>\n",
       "      <td>150.0</td>\n",
       "      <td>1900.0</td>\n",
       "      <td>Yarra City Council</td>\n",
       "      <td>-37.8093</td>\n",
       "      <td>144.9944</td>\n",
       "      <td>Northern Metropolitan</td>\n",
       "      <td>2017</td>\n",
       "    </tr>\n",
       "    <tr>\n",
       "      <th>6</th>\n",
       "      <td>Abbotsford</td>\n",
       "      <td>55a Park St</td>\n",
       "      <td>4</td>\n",
       "      <td>h</td>\n",
       "      <td>1600000.0</td>\n",
       "      <td>VB</td>\n",
       "      <td>2016-04-06</td>\n",
       "      <td>2.5</td>\n",
       "      <td>3067.0</td>\n",
       "      <td>1.0</td>\n",
       "      <td>2.0</td>\n",
       "      <td>120.0</td>\n",
       "      <td>142.0</td>\n",
       "      <td>2014.0</td>\n",
       "      <td>Yarra City Council</td>\n",
       "      <td>-37.8072</td>\n",
       "      <td>144.9941</td>\n",
       "      <td>Northern Metropolitan</td>\n",
       "      <td>2016</td>\n",
       "    </tr>\n",
       "    <tr>\n",
       "      <th>11</th>\n",
       "      <td>Abbotsford</td>\n",
       "      <td>124 Yarra St</td>\n",
       "      <td>3</td>\n",
       "      <td>h</td>\n",
       "      <td>1876000.0</td>\n",
       "      <td>S</td>\n",
       "      <td>2016-07-05</td>\n",
       "      <td>2.5</td>\n",
       "      <td>3067.0</td>\n",
       "      <td>2.0</td>\n",
       "      <td>0.0</td>\n",
       "      <td>245.0</td>\n",
       "      <td>210.0</td>\n",
       "      <td>1910.0</td>\n",
       "      <td>Yarra City Council</td>\n",
       "      <td>-37.8024</td>\n",
       "      <td>144.9993</td>\n",
       "      <td>Northern Metropolitan</td>\n",
       "      <td>2016</td>\n",
       "    </tr>\n",
       "    <tr>\n",
       "      <th>14</th>\n",
       "      <td>Abbotsford</td>\n",
       "      <td>98 Charles St</td>\n",
       "      <td>2</td>\n",
       "      <td>h</td>\n",
       "      <td>1636000.0</td>\n",
       "      <td>S</td>\n",
       "      <td>2016-08-10</td>\n",
       "      <td>2.5</td>\n",
       "      <td>3067.0</td>\n",
       "      <td>1.0</td>\n",
       "      <td>2.0</td>\n",
       "      <td>256.0</td>\n",
       "      <td>107.0</td>\n",
       "      <td>1890.0</td>\n",
       "      <td>Yarra City Council</td>\n",
       "      <td>-37.8060</td>\n",
       "      <td>144.9954</td>\n",
       "      <td>Northern Metropolitan</td>\n",
       "      <td>2016</td>\n",
       "    </tr>\n",
       "  </tbody>\n",
       "</table>\n",
       "</div>"
      ],
      "text/plain": [
       "        suburb          address  bedrooms type      price method       date  \\\n",
       "2   Abbotsford  25 Bloomburg St         2    h  1035000.0      S 2016-04-02   \n",
       "4   Abbotsford     5 Charles St         3    h  1465000.0     SP 2017-04-03   \n",
       "6   Abbotsford      55a Park St         4    h  1600000.0     VB 2016-04-06   \n",
       "11  Abbotsford     124 Yarra St         3    h  1876000.0      S 2016-07-05   \n",
       "14  Abbotsford    98 Charles St         2    h  1636000.0      S 2016-08-10   \n",
       "\n",
       "    distance  postcode  bathrooms  car  land_size  building_area  year_built  \\\n",
       "2        2.5    3067.0        1.0  0.0      156.0           79.0      1900.0   \n",
       "4        2.5    3067.0        2.0  0.0      134.0          150.0      1900.0   \n",
       "6        2.5    3067.0        1.0  2.0      120.0          142.0      2014.0   \n",
       "11       2.5    3067.0        2.0  0.0      245.0          210.0      1910.0   \n",
       "14       2.5    3067.0        1.0  2.0      256.0          107.0      1890.0   \n",
       "\n",
       "          council_area  latitude  longtitude                 region  sale_year  \n",
       "2   Yarra City Council  -37.8079    144.9934  Northern Metropolitan       2016  \n",
       "4   Yarra City Council  -37.8093    144.9944  Northern Metropolitan       2017  \n",
       "6   Yarra City Council  -37.8072    144.9941  Northern Metropolitan       2016  \n",
       "11  Yarra City Council  -37.8024    144.9993  Northern Metropolitan       2016  \n",
       "14  Yarra City Council  -37.8060    144.9954  Northern Metropolitan       2016  "
      ]
     },
     "execution_count": 52,
     "metadata": {},
     "output_type": "execute_result"
    }
   ],
   "source": [
    "# Check and remove all rows where land size is 0\n",
    "melb3 = melb2.drop( melb2.index[(melb2['type'] == 'h') & (melb2['land_size'] == 0)] )                \n",
    "melb3.head()"
   ]
  },
  {
   "cell_type": "markdown",
   "id": "09a3106a",
   "metadata": {},
   "source": [
    "##### Check for all properties where number of rooms is 0"
   ]
  },
  {
   "cell_type": "code",
   "execution_count": 53,
   "id": "2f5e00f3",
   "metadata": {},
   "outputs": [
    {
     "name": "stdout",
     "output_type": "stream",
     "text": [
      "0\n"
     ]
    }
   ],
   "source": [
    "print( len( melb3[(melb3.bedrooms == 0)] ))"
   ]
  },
  {
   "cell_type": "markdown",
   "id": "38660d8a",
   "metadata": {},
   "source": [
    "##### Check for price < 100K"
   ]
  },
  {
   "cell_type": "code",
   "execution_count": 54,
   "id": "355b639d",
   "metadata": {},
   "outputs": [
    {
     "name": "stdout",
     "output_type": "stream",
     "text": [
      "0\n"
     ]
    }
   ],
   "source": [
    "print( len( melb3[(melb3['price'] < 100000)] ))"
   ]
  },
  {
   "cell_type": "markdown",
   "id": "3494bc6a",
   "metadata": {},
   "source": [
    "### Analysis on number of Properties Sold by Year"
   ]
  },
  {
   "cell_type": "code",
   "execution_count": 71,
   "id": "6220b20c",
   "metadata": {},
   "outputs": [
    {
     "name": "stdout",
     "output_type": "stream",
     "text": [
      "sale_year\n",
      "2016    3512\n",
      "2017    5699\n",
      "2018    1229\n",
      "Name: price, dtype: int64\n"
     ]
    },
    {
     "data": {
      "image/png": "[encoded data removed]",
      "text/plain": [
       "<Figure size 432x288 with 1 Axes>"
      ]
     },
     "metadata": {
      "needs_background": "light"
     },
     "output_type": "display_data"
    }
   ],
   "source": [
    "grouped_data = melb3.groupby(['sale_year'])['price'].count()\n",
    "print(grouped_data)\n",
    "grouped_data.plot(kind='bar')\n",
    "plt.xlabel('Year')\n",
    "plt.ylabel('No. of Properties')\n",
    "plt.title('No. of Properties Sold by Year ')\n",
    "plt.xticks(rotation=0)\n",
    "plt.show()"
   ]
  },
  {
   "cell_type": "markdown",
   "id": "799fe194",
   "metadata": {},
   "source": [
    "Looking at the bar graph, we notice a significant rise in property sales during 2017 when compared to the previous year. This suggests the demand in property market increased from 2016 and 2017. 2018 may not be showing full year data which is why the number of properties sold is unrealistically low."
   ]
  },
  {
   "cell_type": "markdown",
   "id": "9d8676b0",
   "metadata": {},
   "source": [
    "### Analysis on number of Units, Houses and Townhouses Sold"
   ]
  },
  {
   "cell_type": "code",
   "execution_count": 72,
   "id": "1837b2a9",
   "metadata": {},
   "outputs": [
    {
     "name": "stdout",
     "output_type": "stream",
     "text": [
      "type\n",
      "h    7783\n",
      "t     884\n",
      "u    1773\n",
      "Name: price, dtype: int64\n"
     ]
    },
    {
     "data": {
      "image/png": "[encoded data removed]",
      "text/plain": [
       "<Figure size 432x288 with 1 Axes>"
      ]
     },
     "metadata": {},
     "output_type": "display_data"
    }
   ],
   "source": [
    "grouped_data = melb3.groupby(['type'])['price'].count()\n",
    "print(grouped_data)\n",
    "grouped_data.plot(kind='pie')\n",
    "plt.xlabel('Year')\n",
    "plt.ylabel('No. of Properties')\n",
    "plt.title('No. of Units, Houses and Townhouses Sold ')\n",
    "plt.xticks(rotation=0)\n",
    "plt.show()"
   ]
  },
  {
   "cell_type": "markdown",
   "id": "389e944b",
   "metadata": {},
   "source": [
    "Looking at the pie chart, it's clear that houses had the highest sales, followed by units, and then townhouses. This suggests that houses were the most popular choice among buyers, with units being the second most preferred option. Townhouses, on the other hand, had comparatively fewer sales. This indicates that people generally prefer houses and units over townhouses."
   ]
  },
  {
   "cell_type": "markdown",
   "id": "3557213a",
   "metadata": {},
   "source": [
    "### Analysis using number of bedrooms"
   ]
  },
  {
   "cell_type": "code",
   "execution_count": 62,
   "id": "18074282",
   "metadata": {},
   "outputs": [
    {
     "name": "stdout",
     "output_type": "stream",
     "text": [
      "   Bedroom_Range  bedrooms      price  sale_year type\n",
      "2          2 Bed         2  1035000.0       2016    h\n",
      "4          3 Bed         3  1465000.0       2017    h\n",
      "6          4 Bed         4  1600000.0       2016    h\n",
      "11         3 Bed         3  1876000.0       2016    h\n",
      "14         2 Bed         2  1636000.0       2016    h\n"
     ]
    }
   ],
   "source": [
    "# Function to determine bedroom range based on number of bedrooms\n",
    "def determine_bedroom_range(bedrooms):\n",
    "    if bedrooms == 1:\n",
    "        return '1 Bed'\n",
    "    elif bedrooms == 2:\n",
    "        return '2 Bed'\n",
    "    elif bedrooms == 3:\n",
    "        return '3 Bed'\n",
    "    elif bedrooms == 4:\n",
    "        return '4 Bed'\n",
    "    else:\n",
    "        return '5+ Bed'\n",
    "\n",
    "# Apply the function to create the new column 'Bedroom_Range'\n",
    "melb3['Bedroom_Range'] = melb3['bedrooms'].apply(determine_bedroom_range)\n",
    "\n",
    "print(melb3[['Bedroom_Range', 'bedrooms','price','sale_year','type']].head())"
   ]
  },
  {
   "cell_type": "markdown",
   "id": "7aba3551",
   "metadata": {},
   "source": [
    "#### Number of properties sold by Bedrooms"
   ]
  },
  {
   "cell_type": "code",
   "execution_count": 74,
   "id": "34ea1e84",
   "metadata": {},
   "outputs": [
    {
     "name": "stdout",
     "output_type": "stream",
     "text": [
      "Bedroom_Range\n",
      "1 Bed      389\n",
      "2 Bed     2197\n",
      "3 Bed     4510\n",
      "4 Bed     2672\n",
      "5+ Bed     672\n",
      "Name: price, dtype: int64\n"
     ]
    },
    {
     "data": {
      "image/png": "[encoded data removed]",
      "text/plain": [
       "<Figure size 432x288 with 1 Axes>"
      ]
     },
     "metadata": {},
     "output_type": "display_data"
    }
   ],
   "source": [
    "grouped_data = melb3.groupby('Bedroom_Range')['price'].count()\n",
    "print(grouped_data)\n",
    "grouped_data.plot(kind='pie')\n",
    "plt.xlabel('Bedroom Range')\n",
    "plt.ylabel('No. of Properties Sold')\n",
    "plt.title('No. of Properties Sold by Bedroom Range')\n",
    "plt.xticks(rotation=0)\n",
    "plt.show()"
   ]
  },
  {
   "cell_type": "markdown",
   "id": "de19a80b",
   "metadata": {},
   "source": [
    "Looking at the pie chart, we clearly notice that 1-bedroom properties have relatively low sales indicating less demand. 3-bedroom properties are showing high demand. 5-bedroom properties on the other hand comparatively had fewer sales, this is probably due to the availability or most buyers not being able to afford them."
   ]
  },
  {
   "cell_type": "markdown",
   "id": "cecf78fb",
   "metadata": {},
   "source": [
    "#### Number of properties sold by Bedrooms and property type for 2017"
   ]
  },
  {
   "cell_type": "code",
   "execution_count": 64,
   "id": "1740ef15",
   "metadata": {},
   "outputs": [
    {
     "data": {
      "text/html": [
       "<div>\n",
       "<style scoped>\n",
       "    .dataframe tbody tr th:only-of-type {\n",
       "        vertical-align: middle;\n",
       "    }\n",
       "\n",
       "    .dataframe tbody tr th {\n",
       "        vertical-align: top;\n",
       "    }\n",
       "\n",
       "    .dataframe thead th {\n",
       "        text-align: right;\n",
       "    }\n",
       "</style>\n",
       "<table border=\"1\" class=\"dataframe\">\n",
       "  <thead>\n",
       "    <tr style=\"text-align: right;\">\n",
       "      <th></th>\n",
       "      <th>suburb</th>\n",
       "      <th>address</th>\n",
       "      <th>bedrooms</th>\n",
       "      <th>type</th>\n",
       "      <th>price</th>\n",
       "      <th>method</th>\n",
       "      <th>date</th>\n",
       "      <th>distance</th>\n",
       "      <th>postcode</th>\n",
       "      <th>bathrooms</th>\n",
       "      <th>car</th>\n",
       "      <th>land_size</th>\n",
       "      <th>building_area</th>\n",
       "      <th>year_built</th>\n",
       "      <th>council_area</th>\n",
       "      <th>latitude</th>\n",
       "      <th>longtitude</th>\n",
       "      <th>region</th>\n",
       "      <th>sale_year</th>\n",
       "      <th>Bedroom_Range</th>\n",
       "    </tr>\n",
       "  </thead>\n",
       "  <tbody>\n",
       "    <tr>\n",
       "      <th>4</th>\n",
       "      <td>Abbotsford</td>\n",
       "      <td>5 Charles St</td>\n",
       "      <td>3</td>\n",
       "      <td>h</td>\n",
       "      <td>1465000.0</td>\n",
       "      <td>SP</td>\n",
       "      <td>2017-04-03</td>\n",
       "      <td>2.5</td>\n",
       "      <td>3067.0</td>\n",
       "      <td>2.0</td>\n",
       "      <td>0.0</td>\n",
       "      <td>134.0</td>\n",
       "      <td>150.0</td>\n",
       "      <td>1900.0</td>\n",
       "      <td>Yarra City Council</td>\n",
       "      <td>-37.8093</td>\n",
       "      <td>144.9944</td>\n",
       "      <td>Northern Metropolitan</td>\n",
       "      <td>2017</td>\n",
       "      <td>3 Bed</td>\n",
       "    </tr>\n",
       "    <tr>\n",
       "      <th>38</th>\n",
       "      <td>Abbotsford</td>\n",
       "      <td>3/72 Charles St</td>\n",
       "      <td>4</td>\n",
       "      <td>h</td>\n",
       "      <td>1330000.0</td>\n",
       "      <td>PI</td>\n",
       "      <td>2017-03-18</td>\n",
       "      <td>2.5</td>\n",
       "      <td>3067.0</td>\n",
       "      <td>2.0</td>\n",
       "      <td>2.0</td>\n",
       "      <td>780.0</td>\n",
       "      <td>135.0</td>\n",
       "      <td>1900.0</td>\n",
       "      <td>Yarra City Council</td>\n",
       "      <td>-37.8073</td>\n",
       "      <td>144.9952</td>\n",
       "      <td>Northern Metropolitan</td>\n",
       "      <td>2017</td>\n",
       "      <td>4 Bed</td>\n",
       "    </tr>\n",
       "    <tr>\n",
       "      <th>41</th>\n",
       "      <td>Abbotsford</td>\n",
       "      <td>138/56 Nicholson St</td>\n",
       "      <td>3</td>\n",
       "      <td>u</td>\n",
       "      <td>1090000.0</td>\n",
       "      <td>S</td>\n",
       "      <td>2017-03-18</td>\n",
       "      <td>2.5</td>\n",
       "      <td>3067.0</td>\n",
       "      <td>2.0</td>\n",
       "      <td>2.0</td>\n",
       "      <td>4290.0</td>\n",
       "      <td>27.0</td>\n",
       "      <td>NaN</td>\n",
       "      <td>Yarra City Council</td>\n",
       "      <td>-37.8078</td>\n",
       "      <td>144.9965</td>\n",
       "      <td>Northern Metropolitan</td>\n",
       "      <td>2017</td>\n",
       "      <td>3 Bed</td>\n",
       "    </tr>\n",
       "    <tr>\n",
       "      <th>55</th>\n",
       "      <td>Abbotsford</td>\n",
       "      <td>166 Gipps St</td>\n",
       "      <td>3</td>\n",
       "      <td>h</td>\n",
       "      <td>1290000.0</td>\n",
       "      <td>S</td>\n",
       "      <td>2017-02-25</td>\n",
       "      <td>2.5</td>\n",
       "      <td>3067.0</td>\n",
       "      <td>2.0</td>\n",
       "      <td>2.0</td>\n",
       "      <td>147.0</td>\n",
       "      <td>18.0</td>\n",
       "      <td>NaN</td>\n",
       "      <td>Yarra City Council</td>\n",
       "      <td>-37.8050</td>\n",
       "      <td>144.9943</td>\n",
       "      <td>Northern Metropolitan</td>\n",
       "      <td>2017</td>\n",
       "      <td>3 Bed</td>\n",
       "    </tr>\n",
       "    <tr>\n",
       "      <th>56</th>\n",
       "      <td>Abbotsford</td>\n",
       "      <td>60 Stafford St</td>\n",
       "      <td>3</td>\n",
       "      <td>h</td>\n",
       "      <td>1290000.0</td>\n",
       "      <td>S</td>\n",
       "      <td>2017-02-25</td>\n",
       "      <td>2.5</td>\n",
       "      <td>3067.0</td>\n",
       "      <td>1.0</td>\n",
       "      <td>1.0</td>\n",
       "      <td>168.0</td>\n",
       "      <td>124.0</td>\n",
       "      <td>1950.0</td>\n",
       "      <td>Yarra City Council</td>\n",
       "      <td>-37.8007</td>\n",
       "      <td>144.9958</td>\n",
       "      <td>Northern Metropolitan</td>\n",
       "      <td>2017</td>\n",
       "      <td>3 Bed</td>\n",
       "    </tr>\n",
       "  </tbody>\n",
       "</table>\n",
       "</div>"
      ],
      "text/plain": [
       "        suburb              address  bedrooms type      price method  \\\n",
       "4   Abbotsford         5 Charles St         3    h  1465000.0     SP   \n",
       "38  Abbotsford      3/72 Charles St         4    h  1330000.0     PI   \n",
       "41  Abbotsford  138/56 Nicholson St         3    u  1090000.0      S   \n",
       "55  Abbotsford         166 Gipps St         3    h  1290000.0      S   \n",
       "56  Abbotsford       60 Stafford St         3    h  1290000.0      S   \n",
       "\n",
       "         date  distance  postcode  bathrooms  car  land_size  building_area  \\\n",
       "4  2017-04-03       2.5    3067.0        2.0  0.0      134.0          150.0   \n",
       "38 2017-03-18       2.5    3067.0        2.0  2.0      780.0          135.0   \n",
       "41 2017-03-18       2.5    3067.0        2.0  2.0     4290.0           27.0   \n",
       "55 2017-02-25       2.5    3067.0        2.0  2.0      147.0           18.0   \n",
       "56 2017-02-25       2.5    3067.0        1.0  1.0      168.0          124.0   \n",
       "\n",
       "    year_built        council_area  latitude  longtitude  \\\n",
       "4       1900.0  Yarra City Council  -37.8093    144.9944   \n",
       "38      1900.0  Yarra City Council  -37.8073    144.9952   \n",
       "41         NaN  Yarra City Council  -37.8078    144.9965   \n",
       "55         NaN  Yarra City Council  -37.8050    144.9943   \n",
       "56      1950.0  Yarra City Council  -37.8007    144.9958   \n",
       "\n",
       "                   region  sale_year Bedroom_Range  \n",
       "4   Northern Metropolitan       2017         3 Bed  \n",
       "38  Northern Metropolitan       2017         4 Bed  \n",
       "41  Northern Metropolitan       2017         3 Bed  \n",
       "55  Northern Metropolitan       2017         3 Bed  \n",
       "56  Northern Metropolitan       2017         3 Bed  "
      ]
     },
     "execution_count": 64,
     "metadata": {},
     "output_type": "execute_result"
    }
   ],
   "source": [
    "# Filter data for the year 2018\n",
    "melb_2017 = melb3[melb3['sale_year'] == 2017]\n",
    "\n",
    "melb_2017.head()\n",
    "\n"
   ]
  },
  {
   "cell_type": "code",
   "execution_count": 66,
   "id": "8cfb3cb6",
   "metadata": {},
   "outputs": [
    {
     "data": {
      "image/png": "[encoded data removed]",
      "text/plain": [
       "<Figure size 432x288 with 1 Axes>"
      ]
     },
     "metadata": {
      "needs_background": "light"
     },
     "output_type": "display_data"
    }
   ],
   "source": [
    "# Group by 'Bedroom_Range' and 'property_type' and count the number of properties sold\n",
    "grouped_data = melb_2017.groupby(['Bedroom_Range', 'type'])['price'].count().unstack()\n",
    "\n",
    "# Create the bar plot\n",
    "grouped_data.plot(kind='bar')\n",
    "plt.xlabel('Bedroom Range')\n",
    "plt.ylabel('No. of Properties Sold')\n",
    "plt.title('No. of Properties Sold by Bedroom Range and Property Type (2017)')\n",
    "plt.legend(title='Property Type')\n",
    "plt.xticks(rotation=0)\n",
    "plt.show()"
   ]
  },
  {
   "cell_type": "markdown",
   "id": "2b87fb49",
   "metadata": {},
   "source": [
    "From the above graph we can see, houses are the popular choice with 3 bedroom and 4 bedroom houses being most in demand. In Units,2 bedroom are the popular choice followed by 1 bedroom. Townhouses are the least popular choice and 3 bedroom townhouses are the most sold among townhouses. "
   ]
  },
  {
   "cell_type": "markdown",
   "id": "7870f68a",
   "metadata": {},
   "source": [
    "#### Average price of units, houses and townhouses by Bedrooms for 2017"
   ]
  },
  {
   "cell_type": "code",
   "execution_count": 67,
   "id": "17896fc8",
   "metadata": {},
   "outputs": [
    {
     "data": {
      "image/png": "[encoded data removed]",
      "text/plain": [
       "<Figure size 432x288 with 1 Axes>"
      ]
     },
     "metadata": {
      "needs_background": "light"
     },
     "output_type": "display_data"
    }
   ],
   "source": [
    "# Group by 'Bedroom_Range' and 'property_type' and calculate the mean price\n",
    "grouped_data = melb_2017.groupby(['Bedroom_Range', 'type'])['price'].mean().unstack()\n",
    "\n",
    "# Create the bar plot\n",
    "grouped_data.plot(kind='bar')\n",
    "plt.xlabel('Bedroom Range')\n",
    "plt.ylabel('Average Price')\n",
    "plt.title('Average Price of Units, Houses, and Townhouses by Bedroom Range (2017)')\n",
    "plt.legend(title='Property Type')\n",
    "plt.xticks(rotation=0)\n",
    "plt.show()"
   ]
  },
  {
   "cell_type": "markdown",
   "id": "ee7b19c5",
   "metadata": {},
   "source": [
    "There is not much price difference between 3 bedroom houses, townhouses and units. This explains 3 bedroom houses being a popular choice. 4 bedroom units average price appears skewed due to less volume and possibly 1 or 2 luxury units priced in millions. It is unlikely for unit price to be higher than the house."
   ]
  },
  {
   "cell_type": "markdown",
   "id": "f26cc1aa",
   "metadata": {},
   "source": [
    "#### Average price of units, houses and townhouses by Bedrooms and year  "
   ]
  },
  {
   "cell_type": "markdown",
   "id": "98dd66f3",
   "metadata": {},
   "source": [
    "#### For Units"
   ]
  },
  {
   "cell_type": "code",
   "execution_count": 32,
   "id": "5204343b",
   "metadata": {},
   "outputs": [
    {
     "data": {
      "image/png": "[encoded data removed]",
      "text/plain": [
       "<Figure size 432x288 with 1 Axes>"
      ]
     },
     "metadata": {
      "needs_background": "light"
     },
     "output_type": "display_data"
    }
   ],
   "source": [
    "# Filter data for the year and property type 'u' (units)\n",
    "melb_units= melb3[melb3['type'] == 'u']\n",
    "\n",
    "# Group by 'Bedroom_Range' and calculate the mean price\n",
    "grouped_data = melb_units.groupby(['Bedroom_Range','sale_year'])['price'].mean().unstack()\n",
    "\n",
    "# Create the bar plot\n",
    "grouped_data.plot(kind='bar')\n",
    "plt.xlabel('Bedroom Range')\n",
    "plt.ylabel('Average Price')\n",
    "plt.title('Average Price of Units by Bedroom Range ')\n",
    "plt.xticks(rotation=0)\n",
    "plt.show()"
   ]
  },
  {
   "cell_type": "markdown",
   "id": "1b3cecb5",
   "metadata": {},
   "source": [
    "Average price of 3 bedroom units apperars to be dropping, making them a poor choice of investment. 2 bedroom and 1 bedroom units are more steady in their pricing. The price for 4 bedroom units is again skewed due to an outlier."
   ]
  },
  {
   "cell_type": "markdown",
   "id": "369c5b00",
   "metadata": {},
   "source": [
    "#### For Houses"
   ]
  },
  {
   "cell_type": "code",
   "execution_count": 69,
   "id": "dcdac6a7",
   "metadata": {
    "scrolled": true
   },
   "outputs": [
    {
     "data": {
      "image/png": "[encoded data removed]",
      "text/plain": [
       "<Figure size 432x288 with 1 Axes>"
      ]
     },
     "metadata": {
      "needs_background": "light"
     },
     "output_type": "display_data"
    }
   ],
   "source": [
    "# Filter data for the year and property type 'h' (houses)\n",
    "melb_houses = melb3[melb3['type'] == 'h']\n",
    "\n",
    "# Group by 'Bedroom_Range' and calculate the mean price\n",
    "grouped_data = melb_houses.groupby(['Bedroom_Range','sale_year'])['price'].mean().unstack()\n",
    "\n",
    "# Create the bar plot\n",
    "grouped_data.plot(kind='bar')\n",
    "plt.xlabel('Bedroom Range')\n",
    "plt.ylabel('Average Price')\n",
    "plt.title('Average Price of houses by Bedroom Range')\n",
    "plt.xticks(rotation=0)\n",
    "plt.show()"
   ]
  },
  {
   "cell_type": "markdown",
   "id": "4ad74bd4",
   "metadata": {},
   "source": [
    "2 bedroom properties have remained steady in pricing from 2016 to 2018. There has been a slight drop in pricing for 3 bedroom houses which form the majority and show us the realistic trend of the market. 4 bedroom and 5 bedroom properties have shown a significant drop from 2016 to 2017 but this may be due to limited properties on the market."
   ]
  },
  {
   "cell_type": "markdown",
   "id": "f8d9b27c",
   "metadata": {},
   "source": [
    "#### For Townhouses"
   ]
  },
  {
   "cell_type": "code",
   "execution_count": 75,
   "id": "f8df19cc",
   "metadata": {},
   "outputs": [
    {
     "data": {
      "image/png": "[encoded data removed]",
      "text/plain": [
       "<Figure size 432x288 with 1 Axes>"
      ]
     },
     "metadata": {
      "needs_background": "light"
     },
     "output_type": "display_data"
    }
   ],
   "source": [
    "# Filter data for the year and property type 't' (townhouses)\n",
    "melb_town = melb3[melb3['type'] == 't']\n",
    "\n",
    "# Group by 'Bedroom_Range' and calculate the mean price\n",
    "grouped_data = melb_town.groupby(['Bedroom_Range','sale_year'])['price'].mean().unstack()\n",
    "\n",
    "# Create the bar plot\n",
    "grouped_data.plot(kind='bar')\n",
    "plt.xlabel('Bedroom Range')\n",
    "plt.ylabel('Average Price')\n",
    "plt.title('Average Price of Townhouses by Bedroom Range')\n",
    "plt.xticks(rotation=0)\n",
    "plt.show()"
   ]
  },
  {
   "cell_type": "markdown",
   "id": "689a9d79",
   "metadata": {},
   "source": [
    "Townhouses are only a minor proportion of the properties sold and cannot provide an accurate reflection of the market. However we do see a slight increase in 2 bedroom townhouse pricing. 3 bedrooms are showing increase from 2016 to 2017 but drop in 2018.\n",
    "4 Bedroom townhouses show a bigger increase from 2016 to 2017 but the volume is too low which may skew the result."
   ]
  },
  {
   "cell_type": "markdown",
   "id": "16aeae89",
   "metadata": {},
   "source": [
    "### Analysis using distance from CBD"
   ]
  },
  {
   "cell_type": "code",
   "execution_count": 93,
   "id": "9455b616",
   "metadata": {},
   "outputs": [
    {
     "name": "stdout",
     "output_type": "stream",
     "text": [
      "   distance_Range  distance      price  sale_year type\n",
      "2       00-05 kms       2.5  1035000.0       2016    h\n",
      "4       00-05 kms       2.5  1465000.0       2017    h\n",
      "6       00-05 kms       2.5  1600000.0       2016    h\n",
      "11      00-05 kms       2.5  1876000.0       2016    h\n",
      "14      00-05 kms       2.5  1636000.0       2016    h\n"
     ]
    }
   ],
   "source": [
    "##### Function to determine distance range based on number of distance\n",
    "def determine_distance_range(distance):\n",
    "    if distance <= 5:\n",
    "        return '00-05 kms'\n",
    "    elif distance <= 10:\n",
    "        return '06-10 kms'\n",
    "    elif distance <= 20:\n",
    "        return '10-20 kms'\n",
    "    else:\n",
    "        return '20+ kms'\n",
    "    \n",
    "# Apply the function to create the new column 'distance_Range'\n",
    "melb3['distance_Range'] = melb3['distance'].apply(determine_distance_range)\n",
    "\n",
    "print(melb3[['distance_Range', 'distance','price','sale_year','type']].head())"
   ]
  },
  {
   "cell_type": "markdown",
   "id": "36172768",
   "metadata": {},
   "source": [
    "#### Number of properties sold by distance "
   ]
  },
  {
   "cell_type": "code",
   "execution_count": 94,
   "id": "f91e1153",
   "metadata": {},
   "outputs": [
    {
     "data": {
      "image/png": "[encoded data removed]",
      "text/plain": [
       "<Figure size 432x288 with 1 Axes>"
      ]
     },
     "metadata": {
      "needs_background": "light"
     },
     "output_type": "display_data"
    }
   ],
   "source": [
    "grouped_data = melb3.groupby('distance_Range')['price'].count()\n",
    "grouped_data.plot(kind='bar')\n",
    "plt.xlabel('Distance Range')\n",
    "plt.ylabel('No. of Properties Sold')\n",
    "plt.title('No. of Properties Sold by Distance Range')\n",
    "plt.xticks(rotation=0)\n",
    "plt.show()"
   ]
  },
  {
   "cell_type": "markdown",
   "id": "6db72aca",
   "metadata": {},
   "source": [
    "Most properties sold are within 20kms to cbd. "
   ]
  },
  {
   "cell_type": "markdown",
   "id": "a6e0c8ac",
   "metadata": {},
   "source": [
    "#### Number of properties sold by distance and property type for 2018"
   ]
  },
  {
   "cell_type": "code",
   "execution_count": 95,
   "id": "f899242b",
   "metadata": {},
   "outputs": [
    {
     "data": {
      "image/png": "[encoded data removed]",
      "text/plain": [
       "<Figure size 432x288 with 1 Axes>"
      ]
     },
     "metadata": {
      "needs_background": "light"
     },
     "output_type": "display_data"
    }
   ],
   "source": [
    "# Filter data for the year 2017\n",
    "melb_2017 = melb3[melb3['sale_year'] == 2017]\n",
    "\n",
    "# Group by 'distance_Range' and 'property_type' and count the number of properties sold\n",
    "grouped_data = melb_2017.groupby(['distance_Range', 'type'])['price'].count().unstack()\n",
    "\n",
    "# Create the bar plot\n",
    "grouped_data.plot(kind='bar')\n",
    "plt.xlabel('Distance Range')\n",
    "plt.ylabel('No. of Properties Sold')\n",
    "plt.title('No. of Properties Sold by Distance and Property Type (2017)')\n",
    "plt.legend(title='Property Type')\n",
    "plt.xticks(rotation=0)\n",
    "plt.show()"
   ]
  },
  {
   "cell_type": "markdown",
   "id": "9d436fb2",
   "metadata": {},
   "source": [
    "Majority of houses sold are from 10-20km range which is similar for townhouses. Most units sold are within 10Kms from the city."
   ]
  },
  {
   "cell_type": "markdown",
   "id": "490d63fc",
   "metadata": {},
   "source": [
    "#### Average price of units, houses and townhouses by distance for 2017"
   ]
  },
  {
   "cell_type": "code",
   "execution_count": 96,
   "id": "42f3da4c",
   "metadata": {},
   "outputs": [
    {
     "data": {
      "image/png": "[encoded data removed]",
      "text/plain": [
       "<Figure size 432x288 with 1 Axes>"
      ]
     },
     "metadata": {
      "needs_background": "light"
     },
     "output_type": "display_data"
    }
   ],
   "source": [
    "# Group by 'distance_Range' and 'property_type' and calculate the mean price\n",
    "grouped_data = melb_2017.groupby(['distance_Range', 'type'])['price'].mean().unstack()\n",
    "\n",
    "# Create the bar plot\n",
    "grouped_data.plot(kind='bar')\n",
    "plt.xlabel('Distance Range')\n",
    "plt.ylabel('Average Price')\n",
    "plt.title('Average Price of Units, Houses, and Townhouses by Distance (2017)')\n",
    "plt.legend(title='Property Type')\n",
    "plt.xticks(rotation=0)\n",
    "plt.show()"
   ]
  },
  {
   "cell_type": "markdown",
   "id": "377d5c54",
   "metadata": {},
   "source": [
    "The above graph shows that as we move further out from cbd the house prices keep dropping. However this is not the case for units and townhouses."
   ]
  },
  {
   "cell_type": "markdown",
   "id": "888654f5",
   "metadata": {},
   "source": [
    "#### Average price of units, houses and townhouses by distance and year"
   ]
  },
  {
   "cell_type": "markdown",
   "id": "c2913ee8",
   "metadata": {},
   "source": [
    "#### For Units"
   ]
  },
  {
   "cell_type": "code",
   "execution_count": 97,
   "id": "0fbf413e",
   "metadata": {},
   "outputs": [
    {
     "data": {
      "image/png": "[encoded data removed]",
      "text/plain": [
       "<Figure size 432x288 with 1 Axes>"
      ]
     },
     "metadata": {
      "needs_background": "light"
     },
     "output_type": "display_data"
    }
   ],
   "source": [
    "# Filter data for the year and property type 'u' (units)\n",
    "melb_units= melb3[melb3['type'] == 'u']\n",
    "\n",
    "# Group by 'Bedroom_Range' and calculate the mean price\n",
    "grouped_data = melb_units.groupby(['distance_Range','sale_year'])['price'].mean().unstack()\n",
    "\n",
    "# Create the bar plot\n",
    "grouped_data.plot(kind='bar')\n",
    "plt.xlabel('Distance Range')\n",
    "plt.ylabel('Average Price')\n",
    "plt.title('Average Price of Units by Distance Range ')\n",
    "plt.xticks(rotation=0)\n",
    "plt.show()"
   ]
  },
  {
   "cell_type": "markdown",
   "id": "f28dd368",
   "metadata": {},
   "source": [
    "Units prices in CBD have remained steady where as unit prices from 6-20km range have increased from 2016 to 2017 but dropped in 2018, this drop may be due to not having a complete year view of 2018."
   ]
  },
  {
   "cell_type": "markdown",
   "id": "a80b59dc",
   "metadata": {},
   "source": [
    "#### For Houses"
   ]
  },
  {
   "cell_type": "code",
   "execution_count": 98,
   "id": "c9daffd7",
   "metadata": {},
   "outputs": [
    {
     "data": {
      "image/png": "[encoded data removed]",
      "text/plain": [
       "<Figure size 432x288 with 1 Axes>"
      ]
     },
     "metadata": {
      "needs_background": "light"
     },
     "output_type": "display_data"
    }
   ],
   "source": [
    "melb_houses = melb3[melb3['type'] == 'h']\n",
    "\n",
    "# Group by 'distance_Range' and calculate the mean price\n",
    "grouped_data = melb_houses.groupby(['distance_Range','sale_year'])['price'].mean().unstack()\n",
    "\n",
    "# Create the bar plot\n",
    "grouped_data.plot(kind='bar')\n",
    "plt.xlabel('Sale Year')\n",
    "plt.ylabel('Average Price')\n",
    "plt.title('Average Price of houses by Distance')\n",
    "plt.xticks(rotation=0)\n",
    "plt.show()"
   ]
  },
  {
   "cell_type": "markdown",
   "id": "a2076f8a",
   "metadata": {},
   "source": [
    "House prices for houses within 10Kms from cbd are showing slight increase from 2016 to 2018. Where as houses 10Km and further from CBD are experiencing a dip. There's not enough data to comment on properties 20km and further from CBD."
   ]
  },
  {
   "cell_type": "markdown",
   "id": "7261ea10",
   "metadata": {},
   "source": [
    "#### For TownHouses"
   ]
  },
  {
   "cell_type": "code",
   "execution_count": 99,
   "id": "4f787114",
   "metadata": {},
   "outputs": [
    {
     "data": {
      "image/png": "[encoded data removed]",
      "text/plain": [
       "<Figure size 432x288 with 1 Axes>"
      ]
     },
     "metadata": {
      "needs_background": "light"
     },
     "output_type": "display_data"
    }
   ],
   "source": [
    "# Filter data for the year and property type 't' (townhouses)\n",
    "melb_town = melb3[melb3['type'] == 't']\n",
    "\n",
    "# Group by 'distance_Range' and calculate the mean price\n",
    "grouped_data = melb_town.groupby(['distance_Range','sale_year'])['price'].mean().unstack()\n",
    "\n",
    "# Create the bar plot\n",
    "grouped_data.plot(kind='bar')\n",
    "plt.xlabel('Distance Range')\n",
    "plt.ylabel('Average Price')\n",
    "plt.title('Average Price of TownHouses by Distance')\n",
    "plt.xticks(rotation=0)\n",
    "plt.show()"
   ]
  },
  {
   "cell_type": "markdown",
   "id": "8c5d6efc",
   "metadata": {},
   "source": [
    "Townhouses are smaller proportion of property sales and donot show a specific trend with distance. We notice a drop in pricing for properties within 5 kms from cbd but see an increase for properties within 10kms from cbd."
   ]
  },
  {
   "cell_type": "markdown",
   "id": "8358694c",
   "metadata": {},
   "source": [
    "### Analysis using building area"
   ]
  },
  {
   "cell_type": "code",
   "execution_count": 108,
   "id": "b39283b0",
   "metadata": {},
   "outputs": [
    {
     "name": "stdout",
     "output_type": "stream",
     "text": [
      "   building_Range  building_area      price  sale_year type\n",
      "2           < 100           79.0  1035000.0       2016    h\n",
      "4           < 200          150.0  1465000.0       2017    h\n",
      "6           < 200          142.0  1600000.0       2016    h\n",
      "11          < 400          210.0  1876000.0       2016    h\n",
      "14          < 200          107.0  1636000.0       2016    h\n"
     ]
    }
   ],
   "source": [
    "##### Function to determine building area range based on range of building area\n",
    "def building_area_range(building_area):\n",
    "    if building_area <= 100:\n",
    "        return '< 100'\n",
    "    elif building_area <= 200:\n",
    "        return '< 200'\n",
    "    elif building_area <= 400:\n",
    "        return '< 400'\n",
    "    elif building_area <= 600:\n",
    "        return '< 600'\n",
    "    elif building_area <= 800:\n",
    "        return '< 800'\n",
    "    else:\n",
    "        return '> 900 '\n",
    "    \n",
    "# Apply the function to create the new column 'distance_Range'\n",
    "melb3['building_Range'] = melb3['building_area'].apply(building_area_range)\n",
    "\n",
    "print(melb3[['building_Range', 'building_area','price','sale_year','type']].head())"
   ]
  },
  {
   "cell_type": "markdown",
   "id": "916ebf33",
   "metadata": {},
   "source": [
    "#### Number of properties sold by Building area"
   ]
  },
  {
   "cell_type": "code",
   "execution_count": 109,
   "id": "8de40ff7",
   "metadata": {},
   "outputs": [
    {
     "data": {
      "image/png": "[encoded data removed]",
      "text/plain": [
       "<Figure size 432x288 with 1 Axes>"
      ]
     },
     "metadata": {
      "needs_background": "light"
     },
     "output_type": "display_data"
    }
   ],
   "source": [
    "grouped_data = melb3.groupby('building_Range')['price'].count()\n",
    "grouped_data.plot(kind='bar')\n",
    "plt.xlabel('Building Range')\n",
    "plt.ylabel('No. of Properties Sold')\n",
    "plt.title('No. of Properties Sold by Building Range')\n",
    "plt.xticks(rotation=0)\n",
    "plt.show()"
   ]
  },
  {
   "cell_type": "markdown",
   "id": "7a60c62a",
   "metadata": {},
   "source": [
    "#### Number of properties sold by Building area and property type for 2018"
   ]
  },
  {
   "cell_type": "code",
   "execution_count": 110,
   "id": "7ee1432c",
   "metadata": {},
   "outputs": [
    {
     "data": {
      "image/png": "[encoded data removed]",
      "text/plain": [
       "<Figure size 432x288 with 1 Axes>"
      ]
     },
     "metadata": {
      "needs_background": "light"
     },
     "output_type": "display_data"
    }
   ],
   "source": [
    "# Filter data for the year 2018\n",
    "melb_2018 = melb3[melb3['sale_year'] == 2018]\n",
    "\n",
    "# Group by 'building range' and 'property_type' and count the number of properties sold\n",
    "grouped_data = melb_2018.groupby(['building_Range', 'type'])['price'].count().unstack()\n",
    "\n",
    "# Create the bar plot\n",
    "grouped_data.plot(kind='bar')\n",
    "plt.xlabel('Building Range')\n",
    "plt.ylabel('No. of Properties Sold')\n",
    "plt.title('No. of Properties Sold by Building Area and Property Type (2018)')\n",
    "plt.legend(title='Property Type')\n",
    "plt.xticks(rotation=0)\n",
    "plt.show()"
   ]
  },
  {
   "cell_type": "markdown",
   "id": "23ebffc1",
   "metadata": {},
   "source": [
    "#### Average price of units, houses and townhouses by Building area for 2018"
   ]
  },
  {
   "cell_type": "code",
   "execution_count": 111,
   "id": "3776b695",
   "metadata": {},
   "outputs": [
    {
     "data": {
      "image/png": "[encoded data removed]",
      "text/plain": [
       "<Figure size 432x288 with 1 Axes>"
      ]
     },
     "metadata": {
      "needs_background": "light"
     },
     "output_type": "display_data"
    }
   ],
   "source": [
    "# Group by 'building_Range' and 'property_type' and calculate the mean price\n",
    "grouped_data = melb_2018.groupby(['building_Range', 'type'])['price'].mean().unstack()\n",
    "\n",
    "# Create the bar plot\n",
    "grouped_data.plot(kind='bar')\n",
    "plt.xlabel('Building Range')\n",
    "plt.ylabel('Average Price')\n",
    "plt.title('Average Price of Units, Houses, and Townhouses by building area (2018)')\n",
    "plt.legend(title='Property Type')\n",
    "plt.xticks(rotation=0)\n",
    "plt.show()"
   ]
  },
  {
   "cell_type": "markdown",
   "id": "572d0501",
   "metadata": {},
   "source": [
    "#### Average price of units, houses and townhouses by Building area and year   "
   ]
  },
  {
   "cell_type": "markdown",
   "id": "3b01e8f4",
   "metadata": {},
   "source": [
    "#### For Units"
   ]
  },
  {
   "cell_type": "code",
   "execution_count": 112,
   "id": "c67dc69b",
   "metadata": {},
   "outputs": [
    {
     "data": {
      "image/png": "[encoded data removed]",
      "text/plain": [
       "<Figure size 432x288 with 1 Axes>"
      ]
     },
     "metadata": {
      "needs_background": "light"
     },
     "output_type": "display_data"
    }
   ],
   "source": [
    "# Filter data for the year and property type 'u' (units)\n",
    "melb_units= melb3[melb3['type'] == 'u']\n",
    "\n",
    "# Group by 'building_Range' and calculate the mean price\n",
    "grouped_data = melb_units.groupby(['building_Range','sale_year'])['price'].mean().unstack()\n",
    "\n",
    "# Create the bar plot\n",
    "grouped_data.plot(kind='bar')\n",
    "plt.xlabel('Building Range')\n",
    "plt.ylabel('Average Price')\n",
    "plt.title('Average Price of Units by Building Area')\n",
    "plt.xticks(rotation=0)\n",
    "plt.show()"
   ]
  },
  {
   "cell_type": "markdown",
   "id": "a8cabbce",
   "metadata": {},
   "source": [
    "#### For Houses"
   ]
  },
  {
   "cell_type": "code",
   "execution_count": 116,
   "id": "632c48d4",
   "metadata": {},
   "outputs": [
    {
     "data": {
      "image/png": "[encoded data removed]",
      "text/plain": [
       "<Figure size 432x288 with 1 Axes>"
      ]
     },
     "metadata": {
      "needs_background": "light"
     },
     "output_type": "display_data"
    }
   ],
   "source": [
    "melb_houses= melb3[melb3['type'] == 'h']\n",
    "\n",
    "    # Group by 'building_Range' and calculate the mean price\n",
    "grouped_data = melb_houses.groupby(['building_Range','sale_year'])['price'].mean().unstack()\n",
    "\n",
    "# Create the bar plot\n",
    "grouped_data.plot(kind='bar')\n",
    "plt.xlabel('Building Range')\n",
    "plt.ylabel('Average Price')\n",
    "plt.title('Average Price of Houses by Building Area')\n",
    "plt.xticks(rotation=0)\n",
    "plt.show()"
   ]
  },
  {
   "cell_type": "markdown",
   "id": "bf368056",
   "metadata": {},
   "source": [
    "#### For Townhouses"
   ]
  },
  {
   "cell_type": "code",
   "execution_count": 117,
   "id": "d0761abd",
   "metadata": {},
   "outputs": [
    {
     "data": {
      "image/png": "[encoded data removed]",
      "text/plain": [
       "<Figure size 432x288 with 1 Axes>"
      ]
     },
     "metadata": {
      "needs_background": "light"
     },
     "output_type": "display_data"
    }
   ],
   "source": [
    "melb_town= melb3[melb3['type'] == 't']\n",
    "\n",
    "# Group by 'building_Range' and calculate the mean price\n",
    "grouped_data = melb_town.groupby(['building_Range','sale_year'])['price'].mean().unstack()\n",
    "\n",
    "# Create the bar plot\n",
    "grouped_data.plot(kind='bar')\n",
    "plt.xlabel('Building Range')\n",
    "plt.ylabel('Average Price')\n",
    "plt.title('Average Price of Townhouses by Building Area')\n",
    "plt.xticks(rotation=0)\n",
    "plt.show()"
   ]
  },
  {
   "cell_type": "code",
   "execution_count": null,
   "id": "47d7baba",
   "metadata": {},
   "outputs": [],
   "source": []
  }
 ],
 "metadata": {
  "kernelspec": {
   "display_name": "Python 3 (ipykernel)",
   "language": "python",
   "name": "python3"
  },
  "language_info": {
   "codemirror_mode": {
    "name": "ipython",
    "version": 3
   },
   "file_extension": ".py",
   "mimetype": "text/x-python",
   "name": "python",
   "nbconvert_exporter": "python",
   "pygments_lexer": "ipython3",
   "version": "3.9.12"
  }
 },
 "nbformat": 4,
 "nbformat_minor": 5
}
