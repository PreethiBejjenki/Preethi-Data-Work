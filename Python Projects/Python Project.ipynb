{
 "cells": [
  {
   "cell_type": "markdown",
   "id": "601f64a5",
   "metadata": {},
   "source": [
    "### Data Analyst Program - Interim Project "
   ]
  },
  {
   "cell_type": "code",
   "execution_count": 1,
   "id": "c7057045",
   "metadata": {},
   "outputs": [
    {
     "name": "stdout",
     "output_type": "stream",
     "text": [
      "Defaulting to user installation because normal site-packages is not writeable\n",
      "Requirement already satisfied: pypyodbc in c:\\users\\admin\\appdata\\roaming\\python\\python39\\site-packages (1.3.6)\n",
      "Requirement already satisfied: setuptools in c:\\programdata\\anaconda3\\lib\\site-packages (from pypyodbc) (61.2.0)\n"
     ]
    }
   ],
   "source": [
    "!pip install pypyodbc\n",
    "import pypyodbc as odbc\n",
    "import pandas as pd\n",
    "import matplotlib.pyplot as plt\n",
    "import seaborn as sns"
   ]
  },
  {
   "cell_type": "code",
   "execution_count": 2,
   "id": "e9548e9f",
   "metadata": {},
   "outputs": [],
   "source": [
    "DRIVER_NAME='SQL SERVER'\n",
    "SERVER_NAME='DESKTOP-TTHH100\\SQLEXPRESS'\n",
    "DATABASE_NAME='AdventureWorks2022'"
   ]
  },
  {
   "cell_type": "code",
   "execution_count": 3,
   "id": "e5159e57",
   "metadata": {},
   "outputs": [],
   "source": [
    "# connection string to establish connection with AdventureWorks2022 Database\n",
    "connection_string=f\"\"\"\n",
    "                      DRIVER={{{DRIVER_NAME}}};\n",
    "                      SERVER={SERVER_NAME};\n",
    "                      DATABASE={DATABASE_NAME};\n",
    "                      Trust_Connection=yes; \n",
    "                    \"\"\"\n",
    "# creating connection object\n",
    "conn=odbc.connect(connection_string)\n",
    "\n",
    "# Create a cursor object\n",
    "cursor=conn.cursor()"
   ]
  },
  {
   "cell_type": "markdown",
   "id": "3c89641a",
   "metadata": {},
   "source": [
    "#### 1. What are the regional sales in the best performing country?"
   ]
  },
  {
   "cell_type": "code",
   "execution_count": 4,
   "id": "3c1c58f3",
   "metadata": {},
   "outputs": [
    {
     "name": "stdout",
     "output_type": "stream",
     "text": [
      "  countryregioncode       name  number_of_sales\n",
      "0                AU  Australia             6843\n",
      "1                US    Central              385\n",
      "2                CA     Canada             4067\n",
      "3                FR     France             2672\n",
      "4                US  Northwest             4594\n"
     ]
    }
   ],
   "source": [
    "# query to retrieve data from table\n",
    "# grouping the total number of sales by CountryRegionCode to understand the best performing country of alL\n",
    "sql_query = '''SELECT \n",
    "                T.CountryRegionCode, \n",
    "                T.Name, Count(OH.SalesOrderID) as Number_Of_Sales\n",
    "                FROM Sales.SalesOrderHeader OH\n",
    "                INNER JOIN Sales.SalesTerritory T\n",
    "                ON OH.TerritoryID = T.TerritoryID\n",
    "                GROUP BY T.CountryRegionCode, T.Name\n",
    "            '''\n",
    "\n",
    "# execute the query\n",
    "cursor.execute(sql_query)\n",
    "\n",
    "# fetch all the rows returned by the query\n",
    "rows = cursor.fetchall()\n",
    "\n",
    "# create a DataFrame from the fetched data\n",
    "df = pd.DataFrame(rows, columns=[column[0] for column in cursor.description])\n",
    "\n",
    "# display the DataFrame\n",
    "print(df.head())"
   ]
  },
  {
   "cell_type": "code",
   "execution_count": 5,
   "id": "e3bd36f2",
   "metadata": {},
   "outputs": [
    {
     "data": {
      "image/png": "[encoded data removed]",
      "text/plain": [
       "<Figure size 432x288 with 1 Axes>"
      ]
     },
     "metadata": {
      "needs_background": "light"
     },
     "output_type": "display_data"
    }
   ],
   "source": [
    "# visualization of 'regional sales in the best performing country' using bar chart\n",
    "Country_group = df.groupby(by= 'countryregioncode')\n",
    "sales_by_country=Country_group.sum()['number_of_sales']\n",
    "sales_by_country_sorted = sales_by_country.sort_values(ascending=False)\n",
    "sales_by_country_sorted.plot.bar(title=\"Sales by Country\")\n",
    "\n",
    "# Customize the x-axis and y-axis labels\n",
    "plt.xlabel('Country', fontsize=12)\n",
    "plt.ylabel('Number of Sales', fontsize=12)\n",
    "plt.xticks(rotation=0)\n",
    "\n",
    "# Display the plot\n",
    "plt.show()\n"
   ]
  },
  {
   "cell_type": "markdown",
   "id": "a4dcb7de",
   "metadata": {},
   "source": [
    "Analysis : US is the country with most number of sales and high performing of all countries."
   ]
  },
  {
   "cell_type": "code",
   "execution_count": 6,
   "id": "131bf24d",
   "metadata": {},
   "outputs": [],
   "source": [
    "# filtering the dataframe for only US records by Region\n",
    "USrecords= df[df['countryregioncode'] == 'US']"
   ]
  },
  {
   "cell_type": "code",
   "execution_count": 7,
   "id": "212e3e23",
   "metadata": {},
   "outputs": [
    {
     "data": {
      "text/plain": [
       "(array([0, 1, 2, 3, 4]),\n",
       " [Text(0, 0, 'Southwest'),\n",
       "  Text(1, 0, 'Northwest'),\n",
       "  Text(2, 0, 'Southeast'),\n",
       "  Text(3, 0, 'Central'),\n",
       "  Text(4, 0, 'Northeast')])"
      ]
     },
     "execution_count": 7,
     "metadata": {},
     "output_type": "execute_result"
    },
    {
     "data": {
      "image/png": "[encoded data removed]",
      "text/plain": [
       "<Figure size 432x288 with 1 Axes>"
      ]
     },
     "metadata": {
      "needs_background": "light"
     },
     "output_type": "display_data"
    }
   ],
   "source": [
    "region_group = USrecords.groupby(by= 'name')\n",
    "sales_by_region=region_group.sum()['number_of_sales']\n",
    "sales_by_region_sorted = sales_by_region.sort_values(ascending=False)\n",
    "sales_by_region_sorted.plot.bar(title=\"Sales by Country\", color= 'green')\n",
    "plt.xlabel('Country', fontsize=12)\n",
    "plt.ylabel('Number of Sales', fontsize=12)\n",
    "plt.xticks(rotation=0)"
   ]
  },
  {
   "cell_type": "markdown",
   "id": "a32e7027",
   "metadata": {},
   "source": [
    "Analysis : Southwest has the highest number of sales followed by Northwest."
   ]
  },
  {
   "cell_type": "markdown",
   "id": "90dbc3b2",
   "metadata": {},
   "source": [
    "#### 2. What is the relationship between annual leave taken and bonus?"
   ]
  },
  {
   "cell_type": "code",
   "execution_count": 8,
   "id": "18fc1202",
   "metadata": {
    "scrolled": false
   },
   "outputs": [
    {
     "data": {
      "text/html": [
       "<div>\n",
       "<style scoped>\n",
       "    .dataframe tbody tr th:only-of-type {\n",
       "        vertical-align: middle;\n",
       "    }\n",
       "\n",
       "    .dataframe tbody tr th {\n",
       "        vertical-align: top;\n",
       "    }\n",
       "\n",
       "    .dataframe thead th {\n",
       "        text-align: right;\n",
       "    }\n",
       "</style>\n",
       "<table border=\"1\" class=\"dataframe\">\n",
       "  <thead>\n",
       "    <tr style=\"text-align: right;\">\n",
       "      <th></th>\n",
       "      <th>businessentityid</th>\n",
       "      <th>persontype</th>\n",
       "      <th>bonus</th>\n",
       "      <th>jobtitle</th>\n",
       "      <th>salariedflag</th>\n",
       "      <th>annual_leave_balance</th>\n",
       "      <th>sick_leave</th>\n",
       "    </tr>\n",
       "  </thead>\n",
       "  <tbody>\n",
       "    <tr>\n",
       "      <th>0</th>\n",
       "      <td>274</td>\n",
       "      <td>SP</td>\n",
       "      <td>0.0000</td>\n",
       "      <td>North American Sales Manager</td>\n",
       "      <td>True</td>\n",
       "      <td>14</td>\n",
       "      <td>27</td>\n",
       "    </tr>\n",
       "    <tr>\n",
       "      <th>1</th>\n",
       "      <td>275</td>\n",
       "      <td>SP</td>\n",
       "      <td>4100.0000</td>\n",
       "      <td>Sales Representative</td>\n",
       "      <td>True</td>\n",
       "      <td>38</td>\n",
       "      <td>39</td>\n",
       "    </tr>\n",
       "    <tr>\n",
       "      <th>2</th>\n",
       "      <td>276</td>\n",
       "      <td>SP</td>\n",
       "      <td>2000.0000</td>\n",
       "      <td>Sales Representative</td>\n",
       "      <td>True</td>\n",
       "      <td>27</td>\n",
       "      <td>33</td>\n",
       "    </tr>\n",
       "    <tr>\n",
       "      <th>3</th>\n",
       "      <td>277</td>\n",
       "      <td>SP</td>\n",
       "      <td>2500.0000</td>\n",
       "      <td>Sales Representative</td>\n",
       "      <td>True</td>\n",
       "      <td>24</td>\n",
       "      <td>32</td>\n",
       "    </tr>\n",
       "    <tr>\n",
       "      <th>4</th>\n",
       "      <td>278</td>\n",
       "      <td>SP</td>\n",
       "      <td>500.0000</td>\n",
       "      <td>Sales Representative</td>\n",
       "      <td>True</td>\n",
       "      <td>33</td>\n",
       "      <td>36</td>\n",
       "    </tr>\n",
       "  </tbody>\n",
       "</table>\n",
       "</div>"
      ],
      "text/plain": [
       "   businessentityid persontype      bonus                      jobtitle  \\\n",
       "0               274         SP     0.0000  North American Sales Manager   \n",
       "1               275         SP  4100.0000          Sales Representative   \n",
       "2               276         SP  2000.0000          Sales Representative   \n",
       "3               277         SP  2500.0000          Sales Representative   \n",
       "4               278         SP   500.0000          Sales Representative   \n",
       "\n",
       "   salariedflag  annual_leave_balance  sick_leave  \n",
       "0          True                    14          27  \n",
       "1          True                    38          39  \n",
       "2          True                    27          33  \n",
       "3          True                    24          32  \n",
       "4          True                    33          36  "
      ]
     },
     "execution_count": 8,
     "metadata": {},
     "output_type": "execute_result"
    }
   ],
   "source": [
    "person_query = '''SELECT \n",
    "                    SP.BusinessEntityID\n",
    "                    , P.PersonType\n",
    "                    , SP.Bonus\n",
    "                    , VE.JobTitle\n",
    "                    , E.SalariedFlag\n",
    "                    , E.VacationHours as Annual_Leave_Balance\n",
    "                    , E.SickLeaveHours as Sick_Leave\n",
    "                    FROM SALES.SALESPERSON SP\n",
    "                    INNER JOIN HumanResources.Employee E \n",
    "                    ON SP.BusinessEntityID = E.BusinessEntityID\n",
    "                    INNER JOIN HumanResources.vEmployee VE \n",
    "                    ON SP.BusinessEntityID = VE.BusinessEntityID\n",
    "                    INNER JOIN [Person].[Person] P\n",
    "                    ON P.[BusinessEntityID] = E.[BusinessEntityID]\n",
    "                '''\n",
    "\n",
    "# execute the query\n",
    "cursor.execute(person_query)\n",
    "\n",
    "# fetch all the rows returned by the query\n",
    "rows = cursor.fetchall()\n",
    "\n",
    "# create a DataFrame from the fetched data\n",
    "BonusvsAL = pd.DataFrame(rows, columns=[column[0] for column in cursor.description])\n",
    "\n",
    "# Display the DataFrame\n",
    "BonusvsAL.head()"
   ]
  },
  {
   "cell_type": "code",
   "execution_count": 9,
   "id": "c7f932e0",
   "metadata": {},
   "outputs": [
    {
     "data": {
      "image/png": "[encoded data removed]",
      "text/plain": [
       "<Figure size 432x288 with 1 Axes>"
      ]
     },
     "metadata": {
      "needs_background": "light"
     },
     "output_type": "display_data"
    }
   ],
   "source": [
    "# visualization of 'relationship between annual leave taken and bonus' using scatter chart\n",
    "plt.scatter(BonusvsAL['annual_leave_balance'], BonusvsAL['bonus'])\n",
    "plt.title('Bonus vs Annual Leave Balance')\n",
    "plt.xlabel('Annual Leave Balance(hours)')\n",
    "plt.ylabel('Bonus')\n",
    "plt.show()"
   ]
  },
  {
   "cell_type": "markdown",
   "id": "cf32cfbc",
   "metadata": {},
   "source": [
    " Analysis:\n",
    " +In the plot above, the x axis is showing the 'Annual Leave Balance' and y axis is showing the 'Bonus Earned'. \n",
    " +Annual Leave taken would result in lower Annual leave balance. \n",
    " +Although we do notice that staff with less annual leave balance(indicating staff have used more annual leave) have a lesser     bonus earned. \n",
    " +We also see cases (as the ones marked in the red ) where staff have not used their annual leave and yet did not get a good       bonus thereby indicating that annual leave may not be the strong factor in earning a good bonus."
   ]
  },
  {
   "cell_type": "markdown",
   "id": "5b62eb22",
   "metadata": {},
   "source": [
    "#### 3. What is the relationship between Country and Revenue?"
   ]
  },
  {
   "cell_type": "code",
   "execution_count": 10,
   "id": "45bb46cb",
   "metadata": {},
   "outputs": [
    {
     "data": {
      "text/html": [
       "<div>\n",
       "<style scoped>\n",
       "    .dataframe tbody tr th:only-of-type {\n",
       "        vertical-align: middle;\n",
       "    }\n",
       "\n",
       "    .dataframe tbody tr th {\n",
       "        vertical-align: top;\n",
       "    }\n",
       "\n",
       "    .dataframe thead th {\n",
       "        text-align: right;\n",
       "    }\n",
       "</style>\n",
       "<table border=\"1\" class=\"dataframe\">\n",
       "  <thead>\n",
       "    <tr style=\"text-align: right;\">\n",
       "      <th></th>\n",
       "      <th>businessentityid</th>\n",
       "      <th>name</th>\n",
       "      <th>yearopened</th>\n",
       "      <th>country</th>\n",
       "      <th>annualrevenue</th>\n",
       "    </tr>\n",
       "  </thead>\n",
       "  <tbody>\n",
       "    <tr>\n",
       "      <th>0</th>\n",
       "      <td>624</td>\n",
       "      <td>Budget Toy Store</td>\n",
       "      <td>1998</td>\n",
       "      <td>Australia</td>\n",
       "      <td>300000.0000</td>\n",
       "    </tr>\n",
       "    <tr>\n",
       "      <th>1</th>\n",
       "      <td>1342</td>\n",
       "      <td>Global Sports Outlet</td>\n",
       "      <td>1993</td>\n",
       "      <td>Australia</td>\n",
       "      <td>300000.0000</td>\n",
       "    </tr>\n",
       "    <tr>\n",
       "      <th>2</th>\n",
       "      <td>784</td>\n",
       "      <td>Online Bike Catalog</td>\n",
       "      <td>1975</td>\n",
       "      <td>Australia</td>\n",
       "      <td>300000.0000</td>\n",
       "    </tr>\n",
       "    <tr>\n",
       "      <th>3</th>\n",
       "      <td>796</td>\n",
       "      <td>Rich Department Store</td>\n",
       "      <td>1974</td>\n",
       "      <td>Australia</td>\n",
       "      <td>300000.0000</td>\n",
       "    </tr>\n",
       "    <tr>\n",
       "      <th>4</th>\n",
       "      <td>1314</td>\n",
       "      <td>Volume Bike Sellers</td>\n",
       "      <td>1999</td>\n",
       "      <td>Australia</td>\n",
       "      <td>300000.0000</td>\n",
       "    </tr>\n",
       "  </tbody>\n",
       "</table>\n",
       "</div>"
      ],
      "text/plain": [
       "   businessentityid                   name  yearopened    country  \\\n",
       "0               624       Budget Toy Store        1998  Australia   \n",
       "1              1342   Global Sports Outlet        1993  Australia   \n",
       "2               784    Online Bike Catalog        1975  Australia   \n",
       "3               796  Rich Department Store        1974  Australia   \n",
       "4              1314    Volume Bike Sellers        1999  Australia   \n",
       "\n",
       "  annualrevenue  \n",
       "0   300000.0000  \n",
       "1   300000.0000  \n",
       "2   300000.0000  \n",
       "3   300000.0000  \n",
       "4   300000.0000  "
      ]
     },
     "execution_count": 10,
     "metadata": {},
     "output_type": "execute_result"
    }
   ],
   "source": [
    "person_query = '''\n",
    "                SELECT \n",
    "                SD.BusinessEntityID, \n",
    "                SD.Name,\n",
    "                SD.YearOpened,\n",
    "                SA.CountryRegionName AS Country,\n",
    "                SD.AnnualRevenue\n",
    "                FROM Sales.vStoreWithDemographics SD\n",
    "                INNER JOIN Sales.vStoreWithAddresses SA \n",
    "                ON SD.BusinessEntityID = SA.BusinessEntityID\n",
    "            '''\n",
    "\n",
    "# execute the query\n",
    "cursor.execute(person_query)\n",
    "\n",
    "# fetch all the rows returned by the query\n",
    "rows = cursor.fetchall()\n",
    "\n",
    "# create a DataFrame from the fetched data\n",
    "Countrydf = pd.DataFrame(rows, columns=[column[0] for column in cursor.description])\n",
    "\n",
    "# Display the DataFrame\n",
    "Countrydf.head()"
   ]
  },
  {
   "cell_type": "code",
   "execution_count": 11,
   "id": "ed190ec0",
   "metadata": {},
   "outputs": [
    {
     "data": {
      "image/png": "[encoded data removed]",
      "text/plain": [
       "<Figure size 432x288 with 1 Axes>"
      ]
     },
     "metadata": {
      "needs_background": "light"
     },
     "output_type": "display_data"
    }
   ],
   "source": [
    "# visualization of 'relationship between Country and Revenue' using bar chart\n",
    "# Convert 'annualrevenue' column to numeric type\n",
    "Countrydf['annualrevenue'] = pd.to_numeric(Countrydf['annualrevenue'])\n",
    "\n",
    "# Group by country and calculate the sum of 'annualrevenue'\n",
    "revenue = Countrydf.groupby('country')['annualrevenue'].sum()\n",
    "\n",
    "revenue_sorted = revenue.sort_values(ascending=False)\n",
    "# Create a bar plot of the sum of revenue by country\n",
    "revenue_sorted.plot(kind='bar', title='Total Revenue by Country', color = \"blue\")\n",
    "\n",
    "# Set labels and show plot\n",
    "plt.xlabel('Country')\n",
    "plt.ylabel('Total Revenue')\n",
    "plt.xticks(rotation=0,fontsize=8)\n",
    "\n",
    "plt.show()"
   ]
  },
  {
   "cell_type": "code",
   "execution_count": 12,
   "id": "62a38aa1",
   "metadata": {},
   "outputs": [
    {
     "data": {
      "image/png": "[encoded data removed]",
      "text/plain": [
       "<Figure size 432x288 with 1 Axes>"
      ]
     },
     "metadata": {
      "needs_background": "light"
     },
     "output_type": "display_data"
    }
   ],
   "source": [
    "# Convert 'annualrevenue' column to numeric type\n",
    "Countrydf['annualrevenue'] = pd.to_numeric(Countrydf['annualrevenue'])\n",
    "\n",
    "# Group by 'trading_duration_range' and calculate the sum of 'annualrevenue'\n",
    "avg_revenue = Countrydf.groupby('country')['annualrevenue'].mean()\n",
    "\n",
    "avg_revenue_sorted = avg_revenue.sort_values(ascending=False)\n",
    "# Create a bar plot of the sum of revenue by trading duration range\n",
    "avg_revenue_sorted.plot(kind='bar', title='Avg Revenue for each Store by Country', color = \"green\")\n",
    "\n",
    "# Set labels and show plot\n",
    "plt.xlabel('Country')\n",
    "plt.ylabel('Avg Revenue')\n",
    "plt.xticks(rotation=0,fontsize=8)\n",
    "plt.show()"
   ]
  },
  {
   "cell_type": "markdown",
   "id": "c6957e87",
   "metadata": {},
   "source": [
    "Analysis: \n",
    "The total revenue of United States is much higher compared to other countries. This is due to a higher number of stores in the US compared to other countries. However when we look at the average revenue per store by country, UK, France and Australia have a higher average revenue compared to United States. "
   ]
  },
  {
   "cell_type": "markdown",
   "id": "881b7bd3",
   "metadata": {},
   "source": [
    "#### 4. What is the relationship between Sick Leave and Job Title?"
   ]
  },
  {
   "cell_type": "code",
   "execution_count": 13,
   "id": "c8c0a03d",
   "metadata": {},
   "outputs": [],
   "source": [
    "# We are using the above query to analyze sick leave and job title"
   ]
  },
  {
   "cell_type": "code",
   "execution_count": 14,
   "id": "28da9ab0",
   "metadata": {},
   "outputs": [
    {
     "data": {
      "image/png": "[encoded data removed]",
      "text/plain": [
       "<Figure size 432x288 with 1 Axes>"
      ]
     },
     "metadata": {
      "needs_background": "light"
     },
     "output_type": "display_data"
    }
   ],
   "source": [
    "# visualization of 'No of Employees with their Job Title' using bar chart\n",
    "JobTitleGroup = BonusvsAL.groupby(by= 'jobtitle')\n",
    "# visualization of 'relationship between sick leave and job title'\n",
    "job_title=JobTitleGroup.mean()['sick_leave']\n",
    "plt.plot( job_title.values,job_title.index, color='red')\n",
    "\n",
    "plt.xlabel('sick leave balance', fontsize=12)\n",
    "plt.ylabel('Job Type', fontsize=12)\n",
    "plt.yticks(fontsize=8)\n",
    "plt.title(\"Average Sick Leave by JobTitle\")\n",
    "plt.show()"
   ]
  },
  {
   "cell_type": "markdown",
   "id": "8be54465",
   "metadata": {},
   "source": [
    "Analysis: We have only 1 record for each of the Sales managers and 14 Sales representatives. Sales Representative have higher average leave balance compared to Country/Region Sales Managers indicating Sales Representatives use less sick leaves compared to other job types."
   ]
  },
  {
   "cell_type": "markdown",
   "id": "99371831",
   "metadata": {},
   "source": [
    "### 5. What is the relationship between store trading duration and revenue?"
   ]
  },
  {
   "cell_type": "code",
   "execution_count": 15,
   "id": "54e9fdf6",
   "metadata": {},
   "outputs": [
    {
     "data": {
      "text/html": [
       "<div>\n",
       "<style scoped>\n",
       "    .dataframe tbody tr th:only-of-type {\n",
       "        vertical-align: middle;\n",
       "    }\n",
       "\n",
       "    .dataframe tbody tr th {\n",
       "        vertical-align: top;\n",
       "    }\n",
       "\n",
       "    .dataframe thead th {\n",
       "        text-align: right;\n",
       "    }\n",
       "</style>\n",
       "<table border=\"1\" class=\"dataframe\">\n",
       "  <thead>\n",
       "    <tr style=\"text-align: right;\">\n",
       "      <th></th>\n",
       "      <th>businessentityid</th>\n",
       "      <th>name</th>\n",
       "      <th>yearopened</th>\n",
       "      <th>current_year</th>\n",
       "      <th>trading_duration</th>\n",
       "      <th>annualrevenue</th>\n",
       "      <th>trading_duration_range</th>\n",
       "    </tr>\n",
       "  </thead>\n",
       "  <tbody>\n",
       "    <tr>\n",
       "      <th>0</th>\n",
       "      <td>292</td>\n",
       "      <td>Next-Door Bike Store</td>\n",
       "      <td>1996</td>\n",
       "      <td>2023</td>\n",
       "      <td>27</td>\n",
       "      <td>80000.0000</td>\n",
       "      <td>25 - 35</td>\n",
       "    </tr>\n",
       "    <tr>\n",
       "      <th>1</th>\n",
       "      <td>294</td>\n",
       "      <td>Professional Sales and Service</td>\n",
       "      <td>1991</td>\n",
       "      <td>2023</td>\n",
       "      <td>32</td>\n",
       "      <td>80000.0000</td>\n",
       "      <td>25 - 35</td>\n",
       "    </tr>\n",
       "    <tr>\n",
       "      <th>2</th>\n",
       "      <td>296</td>\n",
       "      <td>Riders Company</td>\n",
       "      <td>1999</td>\n",
       "      <td>2023</td>\n",
       "      <td>24</td>\n",
       "      <td>80000.0000</td>\n",
       "      <td>0 - 25</td>\n",
       "    </tr>\n",
       "    <tr>\n",
       "      <th>3</th>\n",
       "      <td>298</td>\n",
       "      <td>The Bike Mechanics</td>\n",
       "      <td>1994</td>\n",
       "      <td>2023</td>\n",
       "      <td>29</td>\n",
       "      <td>80000.0000</td>\n",
       "      <td>25 - 35</td>\n",
       "    </tr>\n",
       "    <tr>\n",
       "      <th>4</th>\n",
       "      <td>300</td>\n",
       "      <td>Nationwide Supply</td>\n",
       "      <td>1987</td>\n",
       "      <td>2023</td>\n",
       "      <td>36</td>\n",
       "      <td>80000.0000</td>\n",
       "      <td>35 - 45</td>\n",
       "    </tr>\n",
       "  </tbody>\n",
       "</table>\n",
       "</div>"
      ],
      "text/plain": [
       "   businessentityid                            name  yearopened  current_year  \\\n",
       "0               292            Next-Door Bike Store        1996          2023   \n",
       "1               294  Professional Sales and Service        1991          2023   \n",
       "2               296                  Riders Company        1999          2023   \n",
       "3               298              The Bike Mechanics        1994          2023   \n",
       "4               300               Nationwide Supply        1987          2023   \n",
       "\n",
       "   trading_duration annualrevenue trading_duration_range  \n",
       "0                27    80000.0000                25 - 35  \n",
       "1                32    80000.0000                25 - 35  \n",
       "2                24    80000.0000                 0 - 25  \n",
       "3                29    80000.0000                25 - 35  \n",
       "4                36    80000.0000                35 - 45  "
      ]
     },
     "execution_count": 15,
     "metadata": {},
     "output_type": "execute_result"
    }
   ],
   "source": [
    "# What is the relationship between store trading duration and revenue?\n",
    "query= '''  SELECT BusinessEntityID, \n",
    "            Name,\n",
    "            YearOpened,\n",
    "            Year(GETDATE()) AS Current_Year, \n",
    "            Year(GETDATE()) - YearOpened AS Trading_Duration, \n",
    "            AnnualRevenue,\n",
    "            CASE when (Year(GETDATE()) - YearOpened ) <= 25 then '0 - 25'\n",
    "            when (Year(GETDATE()) - YearOpened ) between 25 and  35 then  '25 - 35'\n",
    "            when(Year(GETDATE()) - YearOpened ) between 35 and  45 then  '35 - 45'\n",
    "            when (Year(GETDATE()) - YearOpened ) between 45 and  55 then  '45 - 55'\n",
    "            else '55+' END as Trading_Duration_Range\n",
    "            FROM \n",
    "            Sales.vStoreWithDemographics\n",
    "        '''\n",
    "\n",
    "# Execute the query and fetch the results\n",
    "cursor.execute(query)\n",
    "rows=cursor.fetchall()\n",
    "\n",
    "# create a DataFrame from the fetched data\n",
    "store_df = pd.DataFrame(rows, columns=[column[0] for column in cursor.description])\n",
    "\n",
    "# Display the DataFrame\n",
    "store_df.head()"
   ]
  },
  {
   "cell_type": "code",
   "execution_count": 16,
   "id": "c6ae28f4",
   "metadata": {},
   "outputs": [
    {
     "data": {
      "image/png": "[encoded data removed]",
      "text/plain": [
       "<Figure size 432x288 with 1 Axes>"
      ]
     },
     "metadata": {
      "needs_background": "light"
     },
     "output_type": "display_data"
    }
   ],
   "source": [
    "# visualization of 'relationship between store trading duration and revenue'\n",
    "# Convert 'annualrevenue' column to numeric type\n",
    "store_df['annualrevenue'] = pd.to_numeric(store_df['annualrevenue'])\n",
    "\n",
    "# Group by 'trading_duration_range' and calculate the sum of 'annualrevenue'\n",
    "revenue = store_df.groupby('trading_duration_range')['annualrevenue'].sum()\n",
    "\n",
    "# Create a bar plot of the sum of revenue by trading duration range\n",
    "revenue.plot(kind='bar', title='Total Revenue by Trading Duration Range', color= 'Skyblue')\n",
    "\n",
    "# Set labels and show plot\n",
    "plt.xlabel('Trading Duration Range(years)')\n",
    "plt.ylabel('Total Revenue')\n",
    "plt.xticks(rotation=0)\n",
    "plt.show()"
   ]
  },
  {
   "cell_type": "markdown",
   "id": "bd46544a",
   "metadata": {},
   "source": [
    "Analysis:\n",
    "More revenue is generated from stores where trading duration is between 35 and 45 years. This is probably due to more number of stores fall in this range"
   ]
  },
  {
   "cell_type": "code",
   "execution_count": 17,
   "id": "335d01ba",
   "metadata": {},
   "outputs": [
    {
     "data": {
      "image/png": "[encoded data removed]",
      "text/plain": [
       "<Figure size 432x288 with 1 Axes>"
      ]
     },
     "metadata": {
      "needs_background": "light"
     },
     "output_type": "display_data"
    }
   ],
   "source": [
    "# Group by 'trading_duration_range' and calculate the sum of 'annualrevenue'\n",
    "Mean_revenue = store_df.groupby('trading_duration_range')['annualrevenue'].mean()\n",
    "\n",
    "# Create a bar plot of the sum of revenue by trading duration range\n",
    "Mean_revenue.plot(kind='bar', title='Average Revenue by Trading Duration Range')\n",
    "\n",
    "# Set labels and show plot\n",
    "plt.xlabel('Trading Duration Range (years)')\n",
    "plt.ylabel('Mean Revenue')\n",
    "plt.xticks(rotation=0)\n",
    "plt.show()"
   ]
  },
  {
   "cell_type": "markdown",
   "id": "68158c97",
   "metadata": {},
   "source": [
    "Analysis:\n",
    "The above plot shows that stores with a trading duration of 0 to 25 years have a higher average annual revenue, and the older stores with trading duration of 45 to 55 years have the lowest annual revenue."
   ]
  },
  {
   "cell_type": "markdown",
   "id": "f85cdb68",
   "metadata": {},
   "source": [
    "#### 6. What is the relationship between the size of the stores, number of employees and revenue?"
   ]
  },
  {
   "cell_type": "code",
   "execution_count": 18,
   "id": "4da39ffb",
   "metadata": {},
   "outputs": [
    {
     "data": {
      "text/html": [
       "<div>\n",
       "<style scoped>\n",
       "    .dataframe tbody tr th:only-of-type {\n",
       "        vertical-align: middle;\n",
       "    }\n",
       "\n",
       "    .dataframe tbody tr th {\n",
       "        vertical-align: top;\n",
       "    }\n",
       "\n",
       "    .dataframe thead th {\n",
       "        text-align: right;\n",
       "    }\n",
       "</style>\n",
       "<table border=\"1\" class=\"dataframe\">\n",
       "  <thead>\n",
       "    <tr style=\"text-align: right;\">\n",
       "      <th></th>\n",
       "      <th>businessentityid</th>\n",
       "      <th>name</th>\n",
       "      <th>squarefeet</th>\n",
       "      <th>store_size_range</th>\n",
       "      <th>numberemployees</th>\n",
       "      <th>annualrevenue</th>\n",
       "    </tr>\n",
       "  </thead>\n",
       "  <tbody>\n",
       "    <tr>\n",
       "      <th>0</th>\n",
       "      <td>536</td>\n",
       "      <td>Nonskid Tire Company</td>\n",
       "      <td>80000</td>\n",
       "      <td>60K-80K</td>\n",
       "      <td>100</td>\n",
       "      <td>300000.0000</td>\n",
       "    </tr>\n",
       "    <tr>\n",
       "      <th>1</th>\n",
       "      <td>698</td>\n",
       "      <td>Bike Rims Company</td>\n",
       "      <td>80000</td>\n",
       "      <td>60K-80K</td>\n",
       "      <td>97</td>\n",
       "      <td>300000.0000</td>\n",
       "    </tr>\n",
       "    <tr>\n",
       "      <th>2</th>\n",
       "      <td>778</td>\n",
       "      <td>One-Piece Handle Bars</td>\n",
       "      <td>80000</td>\n",
       "      <td>60K-80K</td>\n",
       "      <td>97</td>\n",
       "      <td>300000.0000</td>\n",
       "    </tr>\n",
       "    <tr>\n",
       "      <th>3</th>\n",
       "      <td>958</td>\n",
       "      <td>Big-Time Bike Store</td>\n",
       "      <td>80000</td>\n",
       "      <td>60K-80K</td>\n",
       "      <td>96</td>\n",
       "      <td>300000.0000</td>\n",
       "    </tr>\n",
       "    <tr>\n",
       "      <th>4</th>\n",
       "      <td>1310</td>\n",
       "      <td>Unified Sports Company</td>\n",
       "      <td>80000</td>\n",
       "      <td>60K-80K</td>\n",
       "      <td>98</td>\n",
       "      <td>300000.0000</td>\n",
       "    </tr>\n",
       "  </tbody>\n",
       "</table>\n",
       "</div>"
      ],
      "text/plain": [
       "   businessentityid                    name  squarefeet store_size_range  \\\n",
       "0               536    Nonskid Tire Company       80000          60K-80K   \n",
       "1               698       Bike Rims Company       80000          60K-80K   \n",
       "2               778   One-Piece Handle Bars       80000          60K-80K   \n",
       "3               958     Big-Time Bike Store       80000          60K-80K   \n",
       "4              1310  Unified Sports Company       80000          60K-80K   \n",
       "\n",
       "   numberemployees annualrevenue  \n",
       "0              100   300000.0000  \n",
       "1               97   300000.0000  \n",
       "2               97   300000.0000  \n",
       "3               96   300000.0000  \n",
       "4               98   300000.0000  "
      ]
     },
     "execution_count": 18,
     "metadata": {},
     "output_type": "execute_result"
    }
   ],
   "source": [
    "# Execute a query to retrieve data\n",
    "query='''   SELECT BusinessEntityID, \n",
    "            Name, \n",
    "            SquareFeet, \n",
    "            CASE when SquareFeet <= 20000 then '0-20K'\n",
    "            when SquareFeet between 20000 and  40000 then  '20K-40K'\n",
    "            when SquareFeet between 40000 and  60000 then  '40K-60K'\n",
    "            when SquareFeet between 60000 and  80000 then  '60K-80K'\n",
    "            else '80K+' END as Store_Size_Range,\n",
    "            NumberEmployees, \n",
    "            AnnualRevenue\n",
    "            FROM Sales.vStoreWithDemographics\n",
    "            order by SquareFeet desc\n",
    "        '''\n",
    "\n",
    "# Execute the query and fetch the results\n",
    "cursor.execute(query)\n",
    "rows=cursor.fetchall()\n",
    "\n",
    "store_area_df=pd.DataFrame(rows,columns=[column[0] for column in cursor.description])\n",
    "store_area_df.head()"
   ]
  },
  {
   "cell_type": "code",
   "execution_count": 19,
   "id": "ca3d6bae",
   "metadata": {},
   "outputs": [
    {
     "name": "stderr",
     "output_type": "stream",
     "text": [
      "C:\\Users\\Admin\\AppData\\Local\\Temp\\ipykernel_6576\\4007988502.py:20: UserWarning: FixedFormatter should only be used together with FixedLocator\n",
      "  ax1.set_xticklabels(avg_revenue.index, rotation=0)\n"
     ]
    },
    {
     "data": {
      "image/png": "[encoded data removed]",
      "text/plain": [
       "<Figure size 432x288 with 2 Axes>"
      ]
     },
     "metadata": {
      "needs_background": "light"
     },
     "output_type": "display_data"
    }
   ],
   "source": [
    "# visualization of 'relationship between the size of the stores, number of employees and revenue'\n",
    "avg_revenue = store_area_df.groupby('store_size_range')['annualrevenue'].mean()\n",
    "total_employees = store_area_df.groupby('store_size_range')['numberemployees'].mean()\n",
    "\n",
    "# Create a figure and axis object\n",
    "fig, ax1 = plt.subplots()\n",
    "\n",
    "# Create the bar plot for total number of employees\n",
    "ax1.bar(avg_revenue.index, total_employees, color='skyblue')\n",
    "ax1.set_xlabel('Store Size Range(sqft)')\n",
    "ax1.set_ylabel('Avg Number of Employees')\n",
    "ax1.set_title('Average Revenue and Employees by Store Size Range')\n",
    "\n",
    "# Create the line plot for average revenue\n",
    "ax2 = ax1.twinx()\n",
    "ax2.plot(avg_revenue.index, avg_revenue, color='red', marker='o')\n",
    "ax2.set_ylabel('Average Revenue')\n",
    "\n",
    "# Set tick labels for x-axis\n",
    "ax1.set_xticklabels(avg_revenue.index, rotation=0)\n",
    "\n",
    "# Add legends\n",
    "ax1.legend(['Avg Number of Employees'], loc='upper left')\n",
    "ax2.legend(['Avg Revenue'], loc='upper right')\n",
    "\n",
    "plt.show()"
   ]
  },
  {
   "cell_type": "markdown",
   "id": "4e897704",
   "metadata": {},
   "source": [
    "Analysis:\n",
    "From the above graph we noticed that as expected more number employees are placed in the larger stores with area over 60000sqft.\n",
    "\n",
    "Also the stores with larger area also generate the higher average revenue. "
   ]
  }
 ],
 "metadata": {
  "kernelspec": {
   "display_name": "Python 3 (ipykernel)",
   "language": "python",
   "name": "python3"
  },
  "language_info": {
   "codemirror_mode": {
    "name": "ipython",
    "version": 3
   },
   "file_extension": ".py",
   "mimetype": "text/x-python",
   "name": "python",
   "nbconvert_exporter": "python",
   "pygments_lexer": "ipython3",
   "version": "3.9.12"
  }
 },
 "nbformat": 4,
 "nbformat_minor": 5
}
